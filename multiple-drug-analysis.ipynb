{
 "cells": [
  {
   "cell_type": "markdown",
   "metadata": {},
   "source": [
    "# Assessment of vancomycin vs. another antibiotic\n",
    "\n",
    "In clinical practice, the pertinent question is often not \"should I use vancomycin?\", but rather \"should I use vancomycin or this other antibiotic?\". This notebook aims to quantify the risk of nephrotoxicity when using vancomycin over the other antibiotic.\n",
    "\n",
    "\n",
    "## Definitions\n",
    "\n",
    "* **drug on admission:** patient received medication order -12 to 12 hours upon admission to the ICU\n",
    "* **baseline creatinine:** first creatinine value between -12 to 12 hours upon admission to the ICU\n",
    "* **AKI:** following KDIGO guidelines using only creatinine, any instance of AKI between 2-7 days after their ICU admission.\n",
    "\n",
    "KDIGO guidelines for AKI are: >= 50% change from baseline over 7 days, or absolute increase of 0.3 in creatinine over 48 hours."
   ]
  },
  {
   "cell_type": "markdown",
   "metadata": {},
   "source": [
    "## 0. Setup"
   ]
  },
  {
   "cell_type": "code",
   "execution_count": 1,
   "metadata": {},
   "outputs": [],
   "source": [
    "import pandas as pd\n",
    "import numpy as np\n",
    "import matplotlib.pyplot as plt\n",
    "import psycopg2\n",
    "\n",
    "from tqdm import tqdm_notebook as tqdm\n",
    "\n",
    "# helper functions stored in local py file\n",
    "import utils"
   ]
  },
  {
   "cell_type": "markdown",
   "metadata": {},
   "source": [
    "# 1. Extract data and apply exclusions\n",
    "\n",
    "For more detail on exclusions, see the main vancomycin analysis notebook."
   ]
  },
  {
   "cell_type": "code",
   "execution_count": 2,
   "metadata": {},
   "outputs": [],
   "source": [
    "# cohort with exclusions applied\n",
    "co = pd.read_csv('data/cohort.csv.gz')"
   ]
  },
  {
   "cell_type": "markdown",
   "metadata": {},
   "source": [
    "Below we summarize the initial population size and the exclusions resulting in the final population"
   ]
  },
  {
   "cell_type": "code",
   "execution_count": 3,
   "metadata": {},
   "outputs": [
    {
     "name": "stdout",
     "output_type": "stream",
     "text": [
      "== EXCLUSIONS - TOTAL ==\n",
      "3089748 unique unit stays.\n",
      "  438245 (14.2%) - exclude_sdu\n",
      "  116797 ( 3.8%) - exclude_short_stay\n",
      "  1833830 (59.4%) - exclude_non_ed_admit\n",
      "  2115226 (68.5%) - exclude_secondary_stay\n",
      "  1570462 (50.8%) - exclude_missing_apache\n",
      "  484535 (15.7%) - exclude_no_med_interface\n",
      "  111555 ( 3.6%) - exclude_dialysis_chronic\n",
      "  299980 ( 9.7%) - exclude_dialysis_first_week\n",
      "  513293 (16.6%) - exclude_cr_missing_baseline\n",
      "  1192358 (38.6%) - exclude_cr_missing_followup\n",
      "\n",
      "== EXCLUSIONS - SEQUENTIAL ==\n",
      "3089748 unique unit stays.\n",
      "- 438245 = 2651503 (14.2% removed) - exclude_sdu\n",
      "- 80573 = 2570930 ( 2.6% removed) - exclude_short_stay\n",
      "- 1409906 = 1161024 (45.6% removed) - exclude_non_ed_admit\n",
      "- 255882 = 905142 ( 8.3% removed) - exclude_secondary_stay\n",
      "- 280553 = 624589 ( 9.1% removed) - exclude_missing_apache\n",
      "- 99260 = 525329 ( 3.2% removed) - exclude_no_med_interface\n",
      "- 17496 = 507833 ( 0.6% removed) - exclude_dialysis_chronic\n",
      "- 37922 = 469911 ( 1.2% removed) - exclude_dialysis_first_week\n",
      "- 23136 = 446775 ( 0.7% removed) - exclude_cr_missing_baseline\n",
      "- 184277 = 262498 ( 6.0% removed) - exclude_cr_missing_followup\n"
     ]
    }
   ],
   "source": [
    "# remove corrupt hospitals & admissions before 2005 before summarizing the cohort\n",
    "\n",
    "# for some of the exclusions, we don't want to include them in the denominator\n",
    "# mainly they are unrelated to actual patient case-mix\n",
    "pre_exclude = ('exclude_corrupt_hospitals', 'exclude_before_2005')\n",
    "\n",
    "for c in pre_exclude:\n",
    "    co = co.loc[co[c]==0]\n",
    "\n",
    "print('== EXCLUSIONS - TOTAL ==')\n",
    "N = co.shape[0]\n",
    "print(f'{N:6d} unique unit stays.')\n",
    "for c in co.columns:\n",
    "    if c in pre_exclude:\n",
    "        continue\n",
    "\n",
    "    if c.startswith('exclude_'):\n",
    "        N = co[c].sum()\n",
    "        mu = co[c].mean()*100.0\n",
    "        print(f'  {N:6d} ({mu:4.1f}%) - {c}')\n",
    "        \n",
    "print('\\n== EXCLUSIONS - SEQUENTIAL ==')\n",
    "N = co.shape[0]\n",
    "print(f'{N:7d} unique unit stays.')\n",
    "idx = co['patientunitstayid'].notnull()\n",
    "for c in co.columns:\n",
    "    if c in pre_exclude:\n",
    "        continue\n",
    "\n",
    "    if c.startswith('exclude_'):\n",
    "        # index patients removed by this exclusion\n",
    "        idxRem = (co[c]==1)\n",
    "        # calculate number of patients being removed, after applying prev excl\n",
    "        N = (idx & idxRem).sum()\n",
    "        mu = N/co.shape[0]*100.0\n",
    "        idx = idx & (~idxRem)\n",
    "        n_rem = idx.sum()\n",
    "        \n",
    "        print(f'- {N:5d} = {n_rem:6d} ({mu:4.1f}% removed) - {c}')\n",
    "        \n",
    "        \n",
    "# create a cohort ID variable\n",
    "co_id = set(co.loc[idx, 'patientunitstayid'])"
   ]
  },
  {
   "cell_type": "code",
   "execution_count": 4,
   "metadata": {},
   "outputs": [],
   "source": [
    "# covariates from APACHE table\n",
    "dem = pd.read_csv('data/demographics.csv.gz')\n",
    "\n",
    "# abx drug doses\n",
    "va = pd.read_csv('data/vanco.csv.gz')\n",
    "ce = pd.read_csv('data/cefepime.csv.gz')\n",
    "zo = pd.read_csv('data/zosyn.csv.gz')\n",
    "aki = pd.read_csv('data/aki.csv.gz')\n",
    "\n",
    "# APACHE\n",
    "apache = pd.read_csv('data/apache.csv.gz')\n",
    "\n",
    "# convert apache predictions into numeric\n",
    "apache['apache_prob'] = pd.to_numeric(apache['apache_prob'])\n",
    "\n",
    "# sepsis/infection/organ failure\n",
    "dx = pd.read_csv('data/sepsis_infection.csv.gz')"
   ]
  },
  {
   "cell_type": "markdown",
   "metadata": {},
   "source": [
    "## Merge data\n",
    "\n",
    "The antibiotic administration data extracted above has all administrations from time 0.\n",
    "Thus, three dataframes need to be extracted before we can merge data:\n",
    "\n",
    "1. Extract vanco_adm and vanco_wk\n",
    "2. Extract cefepime_adm and cefepime_wk\n",
    "3. Extract zosyn_adm and zosyn_wk"
   ]
  },
  {
   "cell_type": "code",
   "execution_count": 5,
   "metadata": {},
   "outputs": [
    {
     "data": {
      "text/html": [
       "<div>\n",
       "<style scoped>\n",
       "    .dataframe tbody tr th:only-of-type {\n",
       "        vertical-align: middle;\n",
       "    }\n",
       "\n",
       "    .dataframe tbody tr th {\n",
       "        vertical-align: top;\n",
       "    }\n",
       "\n",
       "    .dataframe thead th {\n",
       "        text-align: right;\n",
       "    }\n",
       "</style>\n",
       "<table border=\"1\" class=\"dataframe\">\n",
       "  <thead>\n",
       "    <tr style=\"text-align: right;\">\n",
       "      <th></th>\n",
       "      <th>vanco_adm</th>\n",
       "      <th>vanco_wk</th>\n",
       "    </tr>\n",
       "    <tr>\n",
       "      <th>patientunitstayid</th>\n",
       "      <th></th>\n",
       "      <th></th>\n",
       "    </tr>\n",
       "  </thead>\n",
       "  <tbody>\n",
       "    <tr>\n",
       "      <th>9</th>\n",
       "      <td>1</td>\n",
       "      <td>0</td>\n",
       "    </tr>\n",
       "    <tr>\n",
       "      <th>15</th>\n",
       "      <td>1</td>\n",
       "      <td>1</td>\n",
       "    </tr>\n",
       "    <tr>\n",
       "      <th>20</th>\n",
       "      <td>1</td>\n",
       "      <td>1</td>\n",
       "    </tr>\n",
       "    <tr>\n",
       "      <th>21</th>\n",
       "      <td>0</td>\n",
       "      <td>0</td>\n",
       "    </tr>\n",
       "    <tr>\n",
       "      <th>23</th>\n",
       "      <td>1</td>\n",
       "      <td>1</td>\n",
       "    </tr>\n",
       "  </tbody>\n",
       "</table>\n",
       "</div>"
      ],
      "text/plain": [
       "                   vanco_adm  vanco_wk\n",
       "patientunitstayid                     \n",
       "9                          1         0\n",
       "15                         1         1\n",
       "20                         1         1\n",
       "21                         0         0\n",
       "23                         1         1"
      ]
     },
     "execution_count": 5,
     "metadata": {},
     "output_type": "execute_result"
    }
   ],
   "source": [
    "v_df = utils.extract_adm_and_wk(va, 'vanco')\n",
    "c_df = utils.extract_adm_and_wk(ce, 'cefepime')\n",
    "z_df = utils.extract_adm_and_wk(zo, 'zosyn')\n",
    "\n",
    "v_df.head()"
   ]
  },
  {
   "cell_type": "code",
   "execution_count": 6,
   "metadata": {
    "scrolled": true
   },
   "outputs": [
    {
     "data": {
      "text/html": [
       "<div>\n",
       "<style scoped>\n",
       "    .dataframe tbody tr th:only-of-type {\n",
       "        vertical-align: middle;\n",
       "    }\n",
       "\n",
       "    .dataframe tbody tr th {\n",
       "        vertical-align: top;\n",
       "    }\n",
       "\n",
       "    .dataframe thead th {\n",
       "        text-align: right;\n",
       "    }\n",
       "</style>\n",
       "<table border=\"1\" class=\"dataframe\">\n",
       "  <thead>\n",
       "    <tr style=\"text-align: right;\">\n",
       "      <th>vanco_wk</th>\n",
       "      <th>0</th>\n",
       "      <th>1</th>\n",
       "    </tr>\n",
       "    <tr>\n",
       "      <th>vanco_adm</th>\n",
       "      <th></th>\n",
       "      <th></th>\n",
       "    </tr>\n",
       "  </thead>\n",
       "  <tbody>\n",
       "    <tr>\n",
       "      <th>0</th>\n",
       "      <td>82717</td>\n",
       "      <td>156471</td>\n",
       "    </tr>\n",
       "    <tr>\n",
       "      <th>1</th>\n",
       "      <td>191855</td>\n",
       "      <td>173867</td>\n",
       "    </tr>\n",
       "  </tbody>\n",
       "</table>\n",
       "</div>"
      ],
      "text/plain": [
       "vanco_wk        0       1\n",
       "vanco_adm                \n",
       "0           82717  156471\n",
       "1          191855  173867"
      ]
     },
     "execution_count": 6,
     "metadata": {},
     "output_type": "execute_result"
    }
   ],
   "source": [
    "pd.crosstab(v_df['vanco_adm'], v_df['vanco_wk'])"
   ]
  },
  {
   "cell_type": "markdown",
   "metadata": {},
   "source": [
    "We have two variables here: `vanco_adm` and `vanco_wk`.\n",
    "\n",
    "* `vanco_adm`: did the patient receive vancomycin on ICU admission\n",
    "* `vanco_wk`: did the patient receive vancomycin at some time >= 48 hours after ICU admission\n",
    "\n",
    "We require both to be true to filter to patients who were administered vancomycin on ICU admission for at least 48 hours.\n",
    "\n",
    "Before we do that, we can get an idea of how often these drugs are administered to our cohort."
   ]
  },
  {
   "cell_type": "code",
   "execution_count": 7,
   "metadata": {
    "scrolled": true
   },
   "outputs": [
    {
     "name": "stdout",
     "output_type": "stream",
     "text": [
      "vanco...\n"
     ]
    },
    {
     "name": "stderr",
     "output_type": "stream",
     "text": [
      "/home/alistairewj/miniconda3/envs/vanco-renal-toxicity/lib/python3.7/site-packages/ipykernel_launcher.py:20: TqdmDeprecationWarning: This function will be removed in tqdm==5.0.0\n",
      "Please use `tqdm.notebook.tqdm` instead of `tqdm.tqdm_notebook`\n"
     ]
    },
    {
     "data": {
      "application/vnd.jupyter.widget-view+json": {
       "model_id": "3704859b69224b57b0ce53e5d9acd682",
       "version_major": 2,
       "version_minor": 0
      },
      "text/plain": [
       "HBox(children=(FloatProgress(value=0.0, max=81495.0), HTML(value='')))"
      ]
     },
     "metadata": {},
     "output_type": "display_data"
    },
    {
     "name": "stdout",
     "output_type": "stream",
     "text": [
      "\n",
      "cefepime...\n"
     ]
    },
    {
     "data": {
      "application/vnd.jupyter.widget-view+json": {
       "model_id": "c3101aabd0454878a1b26cf71ad95901",
       "version_major": 2,
       "version_minor": 0
      },
      "text/plain": [
       "HBox(children=(FloatProgress(value=0.0, max=19632.0), HTML(value='')))"
      ]
     },
     "metadata": {},
     "output_type": "display_data"
    },
    {
     "name": "stdout",
     "output_type": "stream",
     "text": [
      "\n",
      "zosyn...\n"
     ]
    },
    {
     "data": {
      "application/vnd.jupyter.widget-view+json": {
       "model_id": "7a4d52f390924b5ea9a535e234d218c1",
       "version_major": 2,
       "version_minor": 0
      },
      "text/plain": [
       "HBox(children=(FloatProgress(value=0.0, max=65633.0), HTML(value='')))"
      ]
     },
     "metadata": {},
     "output_type": "display_data"
    },
    {
     "name": "stdout",
     "output_type": "stream",
     "text": [
      "\n"
     ]
    }
   ],
   "source": [
    "# density of *any* antibiotic administration over time\n",
    "xi = np.arange(-12*60, 168*60, 1)\n",
    "drugs_to_compare = [['vanco', va], ['cefepime', ce], ['zosyn', zo]]\n",
    "\n",
    "co_id_sorted = list(co_id)\n",
    "co_id_sorted.sort()\n",
    "\n",
    "# dictionary mapping patientunitstayid to an index\n",
    "ptid_to_idx = dict(zip(co_id_sorted, range(len(co_id_sorted))))\n",
    "\n",
    "drug_administration = np.zeros([len(co_id_sorted), len(xi), len(drugs_to_compare)], dtype=bool)\n",
    "\n",
    "d = 0\n",
    "for drug, d_df in drugs_to_compare:\n",
    "    print(f'{drug}...')\n",
    "    \n",
    "    # limit to our cohort\n",
    "    d_df = d_df.loc[d_df['patientunitstayid'].isin(co_id)]\n",
    "    \n",
    "    for ptid, grp in tqdm(d_df.groupby('patientunitstayid'), total=d_df['patientunitstayid'].nunique()):\n",
    "        drug_admit_pt = np.zeros(len(xi), dtype=bool)\n",
    "        for i, row in grp.iterrows():\n",
    "            start = row['drugstartoffset'] + xi[0]\n",
    "            if pd.isnull(row['drugstopoffset']):\n",
    "                stop = start + 60\n",
    "            else:\n",
    "                stop = int(row['drugstopoffset'] + xi[0])\n",
    "\n",
    "            # ensure the start/stop index into xi correctly, and don't go outside the range\n",
    "            start = min(max(start, 0), len(xi))\n",
    "            stop = min(max(stop, 0), len(xi))\n",
    "            \n",
    "            drug_admit_pt[start:stop] = True\n",
    "\n",
    "        # insert the drug administration into the final matrix\n",
    "        i = ptid_to_idx[ptid]\n",
    "        drug_administration[i, :, d] = drug_admit_pt\n",
    "    d += 1"
   ]
  },
  {
   "cell_type": "code",
   "execution_count": 8,
   "metadata": {},
   "outputs": [
    {
     "name": "stderr",
     "output_type": "stream",
     "text": [
      "/home/alistairewj/miniconda3/envs/vanco-renal-toxicity/lib/python3.7/site-packages/ipykernel_launcher.py:5: TqdmDeprecationWarning: This function will be removed in tqdm==5.0.0\n",
      "Please use `tqdm.notebook.tqdm` instead of `tqdm.tqdm_notebook`\n",
      "  \"\"\"\n"
     ]
    },
    {
     "data": {
      "application/vnd.jupyter.widget-view+json": {
       "model_id": "cc6cdae08bf54756bde1a0dfcc6f800b",
       "version_major": 2,
       "version_minor": 0
      },
      "text/plain": [
       "HBox(children=(FloatProgress(value=0.0, max=262498.0), HTML(value='')))"
      ]
     },
     "metadata": {},
     "output_type": "display_data"
    },
    {
     "name": "stdout",
     "output_type": "stream",
     "text": [
      "\n"
     ]
    }
   ],
   "source": [
    "pt_in_icu = np.zeros([len(co_id), len(xi)], dtype=bool)\n",
    "\n",
    "dem_tmp = dem.loc[dem['patientunitstayid'].isin(co_id)]\n",
    "\n",
    "for i, row in tqdm(dem_tmp.iterrows(), total=dem_tmp.shape[0]):\n",
    "    if row['unitdischargeoffset'] > xi[-1]:\n",
    "        stop = len(xi)\n",
    "    else:\n",
    "        stop = max(row['unitdischargeoffset'] - xi[0], 0)\n",
    "    \n",
    "    # insert the drug administration into the final matrix\n",
    "    i = ptid_to_idx[row['patientunitstayid']]\n",
    "    pt_in_icu[i, 0:stop] = True    "
   ]
  },
  {
   "cell_type": "code",
   "execution_count": 9,
   "metadata": {},
   "outputs": [
    {
     "data": {
      "image/png": "[encoded data removed]",
      "text/plain": [
       "<Figure size 864x576 with 1 Axes>"
      ]
     },
     "metadata": {
      "needs_background": "light"
     },
     "output_type": "display_data"
    }
   ],
   "source": [
    "ax = plt.figure(figsize=[12, 8]).subplots()\n",
    "\n",
    "for d, (drug, _) in enumerate(drugs_to_compare):\n",
    "    d_administration = np.sum(drug_administration[:, :, d], 0)\n",
    "    ax.plot(xi/60.0, d_administration, linewidth=4, label=drug)\n",
    "    \n",
    "# also plot combination - vanco & cefepime\n",
    "for c in (1, 2):\n",
    "    # vanco & ... blank.\n",
    "    combo = np.sum(drug_administration[:, :, 0] & drug_administration[:, :, c], 0)\n",
    "    ax.plot(xi/60.0, combo, linewidth=4, label=f'{drugs_to_compare[0][0]} *and* {drugs_to_compare[c][0]}')\n",
    "    \n",
    "ax.legend(fontsize=12)\n",
    "ax.set_ylabel('Number of patients', fontsize=16)\n",
    "\n",
    "# ax.fill_between(xi/60.0, 0, vanco_administration, 'b')\n",
    "ax.set_xlim([-12, 168])\n",
    "    \n",
    "\n",
    "plt.title('Antibiotic use over time.', fontsize=16)\n",
    "ax.set_xlabel('Hours since ICU admission', fontsize=16)\n",
    "ax.xaxis.set_tick_params(labelsize=14)\n",
    "ax.yaxis.set_tick_params(labelsize=14)\n",
    "\n",
    "plt.show()"
   ]
  },
  {
   "cell_type": "code",
   "execution_count": 10,
   "metadata": {},
   "outputs": [
    {
     "data": {
      "image/png": "[encoded data removed]",
      "text/plain": [
       "<Figure size 864x576 with 1 Axes>"
      ]
     },
     "metadata": {
      "needs_background": "light"
     },
     "output_type": "display_data"
    }
   ],
   "source": [
    "ax = plt.figure(figsize=[12, 8]).subplots()\n",
    "n_pt_in_icu = np.sum(pt_in_icu, 0)\n",
    "for d, (drug, _) in enumerate(drugs_to_compare):\n",
    "    d_administration = 100.0 * np.sum(drug_administration[:, :, d], 0) / n_pt_in_icu\n",
    "    ax.plot(xi/60.0, d_administration, linewidth=4, label=drug)\n",
    "    \n",
    "# also plot combination - vanco & cefepime\n",
    "for c in (1, 2):\n",
    "    # vanco & ... blank.\n",
    "    combo = 100.0 * np.sum(drug_administration[:, :, 0] & drug_administration[:, :, c], 0) / n_pt_in_icu\n",
    "    ax.plot(xi/60.0, combo, linewidth=4, label=f'{drugs_to_compare[0][0]} *and* {drugs_to_compare[c][0]}')\n",
    "    \n",
    "ax.legend(fontsize=12)\n",
    "ax.set_ylabel('Percent of patients', fontsize=16)\n",
    "\n",
    "# ax.fill_between(xi/60.0, 0, vanco_administration, 'b')\n",
    "ax.set_xlim([-12, 168])\n",
    "\n",
    "for t in range(0, 168, 24):\n",
    "    # write text on graph of # of patients\n",
    "    i = np.where(xi >= t*60.0)[0][0]\n",
    "    plt.text(t, 9, f'{n_pt_in_icu[i]}', fontsize=16)\n",
    "\n",
    "plt.title('Antibiotic use over time.', fontsize=16)\n",
    "ax.set_xlabel('Hours since ICU admission', fontsize=16)\n",
    "ax.xaxis.set_tick_params(labelsize=14)\n",
    "ax.yaxis.set_tick_params(labelsize=14)\n",
    "\n",
    "plt.show()"
   ]
  },
  {
   "cell_type": "markdown",
   "metadata": {},
   "source": [
    "## Apply exclusions and create final dataframe\n",
    "\n",
    "The `prepare_dataframe` function merges the data into a single dataframe, applying exclusions from `co` and subselecting certain variables.\n",
    "\n",
    "In particular, this function will create a `vanco` column, which is equal to `(vanco_adm == 1) & (vanco_wk == 1)`.\n",
    "Similarly it will create a `cefepime` and `zosyn` column"
   ]
  },
  {
   "cell_type": "code",
   "execution_count": 11,
   "metadata": {},
   "outputs": [
    {
     "name": "stdout",
     "output_type": "stream",
     "text": [
      "262498 patients.\n",
      "Antibiotic use for 48 hours in the ICU:\n",
      "  30694 (11.7%) - vanco\n",
      "   7119 ( 2.7%) - cefepime\n",
      "  31377 (12.0%) - zosyn\n",
      "\n",
      "Concurrent antibiotic use:\n",
      "   3208 ( 1.2%) - vanco & cefepime\n",
      "  12718 ( 4.8%) - vanco & zosyn\n"
     ]
    },
    {
     "data": {
      "text/html": [
       "<div>\n",
       "<style scoped>\n",
       "    .dataframe tbody tr th:only-of-type {\n",
       "        vertical-align: middle;\n",
       "    }\n",
       "\n",
       "    .dataframe tbody tr th {\n",
       "        vertical-align: top;\n",
       "    }\n",
       "\n",
       "    .dataframe thead th {\n",
       "        text-align: right;\n",
       "    }\n",
       "</style>\n",
       "<table border=\"1\" class=\"dataframe\">\n",
       "  <thead>\n",
       "    <tr style=\"text-align: right;\">\n",
       "      <th></th>\n",
       "      <th>unitdischargeoffset</th>\n",
       "      <th>age</th>\n",
       "      <th>gender</th>\n",
       "      <th>ethnicity</th>\n",
       "      <th>weight_kg</th>\n",
       "      <th>height_cm</th>\n",
       "      <th>bmi</th>\n",
       "      <th>bmi_group</th>\n",
       "      <th>apachescore</th>\n",
       "      <th>apache_group</th>\n",
       "      <th>...</th>\n",
       "      <th>immunocompromised</th>\n",
       "      <th>sepsis_explicit</th>\n",
       "      <th>infection</th>\n",
       "      <th>organfailure</th>\n",
       "      <th>infection_skin_soft_tissue</th>\n",
       "      <th>sepsis</th>\n",
       "      <th>egfr</th>\n",
       "      <th>vanco</th>\n",
       "      <th>cefepime</th>\n",
       "      <th>zosyn</th>\n",
       "    </tr>\n",
       "    <tr>\n",
       "      <th>patientunitstayid</th>\n",
       "      <th></th>\n",
       "      <th></th>\n",
       "      <th></th>\n",
       "      <th></th>\n",
       "      <th></th>\n",
       "      <th></th>\n",
       "      <th></th>\n",
       "      <th></th>\n",
       "      <th></th>\n",
       "      <th></th>\n",
       "      <th></th>\n",
       "      <th></th>\n",
       "      <th></th>\n",
       "      <th></th>\n",
       "      <th></th>\n",
       "      <th></th>\n",
       "      <th></th>\n",
       "      <th></th>\n",
       "      <th></th>\n",
       "      <th></th>\n",
       "      <th></th>\n",
       "    </tr>\n",
       "  </thead>\n",
       "  <tbody>\n",
       "    <tr>\n",
       "      <th>141139</th>\n",
       "      <td>4332</td>\n",
       "      <td>50</td>\n",
       "      <td>Male</td>\n",
       "      <td>Caucasian</td>\n",
       "      <td>111.27</td>\n",
       "      <td>193.0</td>\n",
       "      <td>30.0</td>\n",
       "      <td>overweight</td>\n",
       "      <td>34.0</td>\n",
       "      <td>31-40</td>\n",
       "      <td>...</td>\n",
       "      <td>no</td>\n",
       "      <td>0</td>\n",
       "      <td>0</td>\n",
       "      <td>0</td>\n",
       "      <td>no</td>\n",
       "      <td>no</td>\n",
       "      <td>75.594581</td>\n",
       "      <td>0</td>\n",
       "      <td>0</td>\n",
       "      <td>0</td>\n",
       "    </tr>\n",
       "    <tr>\n",
       "      <th>141144</th>\n",
       "      <td>10014</td>\n",
       "      <td>65</td>\n",
       "      <td>Female</td>\n",
       "      <td>Caucasian</td>\n",
       "      <td>102.71</td>\n",
       "      <td>167.6</td>\n",
       "      <td>37.0</td>\n",
       "      <td>overweight</td>\n",
       "      <td>48.0</td>\n",
       "      <td>41-50</td>\n",
       "      <td>...</td>\n",
       "      <td>no</td>\n",
       "      <td>0</td>\n",
       "      <td>0</td>\n",
       "      <td>1</td>\n",
       "      <td>no</td>\n",
       "      <td>no</td>\n",
       "      <td>62.838338</td>\n",
       "      <td>0</td>\n",
       "      <td>0</td>\n",
       "      <td>0</td>\n",
       "    </tr>\n",
       "    <tr>\n",
       "      <th>141151</th>\n",
       "      <td>4313</td>\n",
       "      <td>67</td>\n",
       "      <td>Male</td>\n",
       "      <td>Caucasian</td>\n",
       "      <td>86.05</td>\n",
       "      <td>172.5</td>\n",
       "      <td>29.0</td>\n",
       "      <td>overweight</td>\n",
       "      <td>52.0</td>\n",
       "      <td>51-60</td>\n",
       "      <td>...</td>\n",
       "      <td>no</td>\n",
       "      <td>0</td>\n",
       "      <td>0</td>\n",
       "      <td>0</td>\n",
       "      <td>no</td>\n",
       "      <td>no</td>\n",
       "      <td>19.756316</td>\n",
       "      <td>0</td>\n",
       "      <td>0</td>\n",
       "      <td>0</td>\n",
       "    </tr>\n",
       "    <tr>\n",
       "      <th>141156</th>\n",
       "      <td>1189</td>\n",
       "      <td>90</td>\n",
       "      <td>Male</td>\n",
       "      <td>Caucasian</td>\n",
       "      <td>76.10</td>\n",
       "      <td>172.7</td>\n",
       "      <td>26.0</td>\n",
       "      <td>overweight</td>\n",
       "      <td>49.0</td>\n",
       "      <td>41-50</td>\n",
       "      <td>...</td>\n",
       "      <td>no</td>\n",
       "      <td>0</td>\n",
       "      <td>0</td>\n",
       "      <td>0</td>\n",
       "      <td>no</td>\n",
       "      <td>no</td>\n",
       "      <td>56.878962</td>\n",
       "      <td>0</td>\n",
       "      <td>0</td>\n",
       "      <td>0</td>\n",
       "    </tr>\n",
       "    <tr>\n",
       "      <th>141159</th>\n",
       "      <td>4595</td>\n",
       "      <td>61</td>\n",
       "      <td>Male</td>\n",
       "      <td>African American</td>\n",
       "      <td>63.91</td>\n",
       "      <td>170.2</td>\n",
       "      <td>22.0</td>\n",
       "      <td>normal</td>\n",
       "      <td>55.0</td>\n",
       "      <td>51-60</td>\n",
       "      <td>...</td>\n",
       "      <td>no</td>\n",
       "      <td>0</td>\n",
       "      <td>0</td>\n",
       "      <td>0</td>\n",
       "      <td>no</td>\n",
       "      <td>no</td>\n",
       "      <td>138.955446</td>\n",
       "      <td>0</td>\n",
       "      <td>0</td>\n",
       "      <td>0</td>\n",
       "    </tr>\n",
       "  </tbody>\n",
       "</table>\n",
       "<p>5 rows × 26 columns</p>\n",
       "</div>"
      ],
      "text/plain": [
       "                   unitdischargeoffset  age  gender         ethnicity  \\\n",
       "patientunitstayid                                                       \n",
       "141139                            4332   50    Male         Caucasian   \n",
       "141144                           10014   65  Female         Caucasian   \n",
       "141151                            4313   67    Male         Caucasian   \n",
       "141156                            1189   90    Male         Caucasian   \n",
       "141159                            4595   61    Male  African American   \n",
       "\n",
       "                   weight_kg  height_cm   bmi   bmi_group  apachescore  \\\n",
       "patientunitstayid                                                        \n",
       "141139                111.27      193.0  30.0  overweight         34.0   \n",
       "141144                102.71      167.6  37.0  overweight         48.0   \n",
       "141151                 86.05      172.5  29.0  overweight         52.0   \n",
       "141156                 76.10      172.7  26.0  overweight         49.0   \n",
       "141159                 63.91      170.2  22.0      normal         55.0   \n",
       "\n",
       "                  apache_group  ...    immunocompromised  sepsis_explicit  \\\n",
       "patientunitstayid               ...                                         \n",
       "141139                   31-40  ...                   no                0   \n",
       "141144                   41-50  ...                   no                0   \n",
       "141151                   51-60  ...                   no                0   \n",
       "141156                   41-50  ...                   no                0   \n",
       "141159                   51-60  ...                   no                0   \n",
       "\n",
       "                   infection  organfailure  infection_skin_soft_tissue  \\\n",
       "patientunitstayid                                                        \n",
       "141139                     0             0                          no   \n",
       "141144                     0             1                          no   \n",
       "141151                     0             0                          no   \n",
       "141156                     0             0                          no   \n",
       "141159                     0             0                          no   \n",
       "\n",
       "                   sepsis        egfr  vanco  cefepime  zosyn  \n",
       "patientunitstayid                                              \n",
       "141139                 no   75.594581      0         0      0  \n",
       "141144                 no   62.838338      0         0      0  \n",
       "141151                 no   19.756316      0         0      0  \n",
       "141156                 no   56.878962      0         0      0  \n",
       "141159                 no  138.955446      0         0      0  \n",
       "\n",
       "[5 rows x 26 columns]"
      ]
     },
     "execution_count": 11,
     "metadata": {},
     "output_type": "execute_result"
    }
   ],
   "source": [
    "df = utils.prepare_dataframe(co, dem, aki, apache, dx, drug_dfs=[v_df, c_df, z_df])\n",
    "\n",
    "print('{} patients.'.format(df.shape[0]))\n",
    "\n",
    "print('Antibiotic use for 48 hours in the ICU:')\n",
    "for abx in ['vanco', 'cefepime', 'zosyn']:\n",
    "    N = df[abx].sum()\n",
    "    mu = N/df.shape[0]*100.0\n",
    "    print(f'  {N:5d} ({mu:4.1f}%) - {abx}')\n",
    "    \n",
    "\n",
    "print('\\nConcurrent antibiotic use:')\n",
    "for abx1, abx2 in [['vanco', 'cefepime'], ['vanco', 'zosyn']]:\n",
    "    N = ((df[abx1] == 1) & (df[abx2] == 1)).sum()\n",
    "    mu = N/df.shape[0]*100.0\n",
    "    print(f'  {N:5d} ({mu:4.1f}%) - {abx1} & {abx2}')\n",
    "    \n",
    "df.head()"
   ]
  },
  {
   "cell_type": "markdown",
   "metadata": {},
   "source": [
    "# Primary analysis\n",
    "\n",
    "We will compare two groups of patients: those who receive vancomycin and zosyn at the same time versus those who receive vancomycin and cefepime.\n",
    "\n",
    "In order to make this comparison clear, we'll define all the groups upfront, then later run the comparison."
   ]
  },
  {
   "cell_type": "code",
   "execution_count": 12,
   "metadata": {},
   "outputs": [],
   "source": [
    "from collections import OrderedDict\n",
    "comparisons = OrderedDict()\n",
    "\n",
    "idxCefepime = df['cefepime'] == 1\n",
    "idxZosyn = df['zosyn'] == 1\n",
    "idxVanco = df['vanco'] == 1\n",
    "\n",
    "# Vanco + Zosyn vs Vanco + Cefepime\n",
    "idxE = idxVanco & idxZosyn & ~idxCefepime\n",
    "idxC = idxVanco & ~idxZosyn & idxCefepime\n",
    "\n",
    "# Vanco + Zosyn vs Vanco + Cefepime\n",
    "comparison = {\n",
    "    'exposure': df[idxE].copy(),\n",
    "    'control': df[idxC].copy(),\n",
    "    'covariates': [\n",
    "        'age', 'apache_prob', 'sepsis', 'immunocompromised', 'egfr'\n",
    "    ],\n",
    "    'seed': 842\n",
    "}"
   ]
  },
  {
   "cell_type": "markdown",
   "metadata": {},
   "source": [
    "## Propensity score comparison\n",
    "\n",
    "With the dataset defined, we can run the propensity score modeling followed by caliper matching to create two groups matched on the confounders."
   ]
  },
  {
   "cell_type": "code",
   "execution_count": 13,
   "metadata": {
    "scrolled": true
   },
   "outputs": [
    {
     "name": "stderr",
     "output_type": "stream",
     "text": [
      "Column ethnicity missing 88 observations in exposure dataframe.\n",
      "Column ethnicity missing 12 observations in control dataframe.\n",
      "Column weight_kg missing 75 observations in exposure dataframe.\n",
      "Column weight_kg missing 17 observations in control dataframe.\n",
      "Column height_cm missing 222 observations in exposure dataframe.\n",
      "Column height_cm missing 49 observations in control dataframe.\n",
      "Column bmi missing 264 observations in exposure dataframe.\n",
      "Column bmi missing 61 observations in control dataframe.\n",
      "Column bmi_group missing 264 observations in exposure dataframe.\n",
      "Column bmi_group missing 61 observations in control dataframe.\n"
     ]
    },
    {
     "name": "stdout",
     "output_type": "stream",
     "text": [
      "Formula:\n",
      "status ~ age+apache_prob+immunocompromised+sepsis+egfr\n",
      "n majority: 12632\n",
      "n minority: 3122\n",
      "Fitting 1 (Unbalanced) Model...\n",
      "\n",
      "Accuracy 80.18\n",
      "Result of propensity score followed by matching:\n",
      "p < 0.001.\n",
      "Odds ratio: 1.17 [1.07 - 1.28].\n"
     ]
    },
    {
     "name": "stderr",
     "output_type": "stream",
     "text": [
      "/home/alistairewj/miniconda3/envs/vanco-renal-toxicity/lib/python3.7/site-packages/pymatch/Matcher.py:199: SettingWithCopyWarning: \n",
      "A value is trying to be set on a copy of a slice from a DataFrame.\n",
      "Try using .loc[row_indexer,col_indexer] = value instead\n",
      "\n",
      "See the caveats in the documentation: http://pandas.pydata.org/pandas-docs/stable/indexing.html#indexing-view-versus-copy\n",
      "  self.matched_data['match_id'] = match_ids\n",
      "/home/alistairewj/miniconda3/envs/vanco-renal-toxicity/lib/python3.7/site-packages/pymatch/Matcher.py:200: SettingWithCopyWarning: \n",
      "A value is trying to be set on a copy of a slice from a DataFrame.\n",
      "Try using .loc[row_indexer,col_indexer] = value instead\n",
      "\n",
      "See the caveats in the documentation: http://pandas.pydata.org/pandas-docs/stable/indexing.html#indexing-view-versus-copy\n",
      "  self.matched_data['record_id'] = self.matched_data.index\n"
     ]
    }
   ],
   "source": [
    "m = utils.propensity_match(**comparison)\n",
    "\n",
    "# calculate a contingency table for each \"strata\"\n",
    "# here the strata are a match between a single patient in the minority group\n",
    "# and 1 or more patients in the majority group\n",
    "cm = utils.get_contingency_tables(m, outcome_var='aki')\n",
    "\n",
    "# CMH tests for the significance of the odds ratio between matched pairs\n",
    "pval, R, ci = utils.cmh_test(cm, alpha=0.05)\n",
    "pval_str = f'= {pval:1.3f}' if pval > 0.001 else '< 0.001'\n",
    "\n",
    "print('Result of propensity score followed by matching:')\n",
    "print(f'p {pval_str}.\\nOdds ratio: {R:3.2f} [{ci[0]:3.2f} - {ci[1]:3.2f}].')"
   ]
  },
  {
   "cell_type": "markdown",
   "metadata": {},
   "source": [
    "## Subanalysis\n",
    "\n",
    "We'd like to investigate whether subgrouping based off of eGFR at the time of ICU admission makes any difference."
   ]
  },
  {
   "cell_type": "code",
   "execution_count": 14,
   "metadata": {},
   "outputs": [],
   "source": [
    "def add_grouped_var(x: pd.Series, bins=[(0, 60)]):\n",
    "    y = x.copy()\n",
    "    bin_order = []\n",
    "    for b in bins:\n",
    "        idx = (x > b[0]) & (x <= b[1])\n",
    "        bin_name = f'{b[0]} - {b[1]}'\n",
    "        y.loc[idx] = bin_name\n",
    "        bin_order.append(bin_name)\n",
    "\n",
    "\n",
    "    idx = (x > b[1])\n",
    "    bin_name = f'> {b[1]}'\n",
    "    y.loc[idx] = bin_name\n",
    "    bin_order.append(bin_name)\n",
    "    \n",
    "    return y, bin_order"
   ]
  },
  {
   "cell_type": "markdown",
   "metadata": {},
   "source": [
    "## Subgroups of eGFR in other comparisons"
   ]
  },
  {
   "cell_type": "code",
   "execution_count": 15,
   "metadata": {
    "scrolled": true
   },
   "outputs": [
    {
     "name": "stderr",
     "output_type": "stream",
     "text": [
      "Column ethnicity missing 43 observations in exposure dataframe.\n",
      "Column ethnicity missing 7 observations in control dataframe.\n",
      "Column weight_kg missing 37 observations in exposure dataframe.\n",
      "Column weight_kg missing 5 observations in control dataframe.\n",
      "Column height_cm missing 84 observations in exposure dataframe.\n",
      "Column height_cm missing 24 observations in control dataframe.\n",
      "Column bmi missing 106 observations in exposure dataframe.\n",
      "Column bmi missing 27 observations in control dataframe.\n",
      "Column bmi_group missing 106 observations in exposure dataframe.\n",
      "Column bmi_group missing 27 observations in control dataframe.\n"
     ]
    },
    {
     "name": "stdout",
     "output_type": "stream",
     "text": [
      "Formula:\n",
      "status ~ age+apache_prob+immunocompromised+infection_skin_soft_tissue+sepsis\n",
      "n majority: 5807\n",
      "n minority: 1462\n",
      "Fitting 1 (Unbalanced) Model...\n",
      "\n",
      "Accuracy 79.89\n"
     ]
    },
    {
     "name": "stderr",
     "output_type": "stream",
     "text": [
      "Column ethnicity missing 45 observations in exposure dataframe.\n",
      "Column ethnicity missing 5 observations in control dataframe.\n",
      "Column weight_kg missing 38 observations in exposure dataframe.\n",
      "Column weight_kg missing 12 observations in control dataframe.\n",
      "Column height_cm missing 138 observations in exposure dataframe.\n",
      "Column height_cm missing 25 observations in control dataframe.\n",
      "Column bmi missing 158 observations in exposure dataframe.\n",
      "Column bmi missing 34 observations in control dataframe.\n",
      "Column bmi_group missing 158 observations in exposure dataframe.\n",
      "Column bmi_group missing 34 observations in control dataframe.\n"
     ]
    },
    {
     "name": "stdout",
     "output_type": "stream",
     "text": [
      "Formula:\n",
      "status ~ age+apache_prob+immunocompromised+infection_skin_soft_tissue+sepsis\n",
      "n majority: 6825\n",
      "n minority: 1660\n",
      "Fitting 1 (Unbalanced) Model...\n",
      "\n",
      "Accuracy 80.44\n"
     ]
    }
   ],
   "source": [
    "seed_base = 1000\n",
    "df_tmp = df.copy()\n",
    "df_tmp['egfr_groups'], bin_order = add_grouped_var(df_tmp['egfr'])\n",
    "\n",
    "i = 0\n",
    "\n",
    "# this does *not* adjust for eGFR in the propensity score\n",
    "egfr_ps, egfr_cm = {}, {}\n",
    "\n",
    "# calculate odds ratio in each group\n",
    "for b in bin_order:\n",
    "    idx = df_tmp['egfr_groups'] == b\n",
    "    df_cmp = df_tmp.loc[idx]\n",
    "\n",
    "    idxCefepime = df_cmp['cefepime'] == 1\n",
    "    idxZosyn = df_cmp['zosyn'] == 1\n",
    "    idxVanco = df_cmp['vanco'] == 1\n",
    "\n",
    "    # re-do the propensity scores\n",
    "    # Vanco + Zosyn vs Vanco + Cefepime\n",
    "    idxE = idxVanco & idxZosyn & ~idxCefepime\n",
    "    idxC = idxVanco & ~idxZosyn & idxCefepime\n",
    "\n",
    "    propensity_vars = {\n",
    "        'exposure': df_cmp[idxE],\n",
    "        'control': df_cmp[idxC],\n",
    "        'covariates': [\n",
    "            'age', 'apache_prob', 'sepsis', 'infection_skin_soft_tissue', 'immunocompromised'\n",
    "        ],\n",
    "        'seed': seed_base+i\n",
    "    }\n",
    "\n",
    "    egfr_ps[b] = utils.propensity_match(**propensity_vars)\n",
    "\n",
    "    # get CMs\n",
    "    egfr_cm[b] = utils.get_contingency_tables(egfr_ps[b], outcome_var='aki')\n",
    "\n",
    "    i+=1"
   ]
  },
  {
   "cell_type": "code",
   "execution_count": 16,
   "metadata": {},
   "outputs": [],
   "source": [
    "# below should be well balanced since we have eGFR in our confounders\n",
    "#import seaborn as sns\n",
    "#sns.catplot(x='egfr_groups', y=\"scores\", hue=\"status\", kind='box', order=bin_order, data=df_matched)"
   ]
  },
  {
   "cell_type": "code",
   "execution_count": 17,
   "metadata": {
    "scrolled": true
   },
   "outputs": [
    {
     "name": "stdout",
     "output_type": "stream",
     "text": [
      "v+z (exp) vs v+c (ctl)\n",
      "0 - 60: N=5807 (5807 exp, 1297 ctl). p = 0.402. OR: 1.06 [0.93 - 1.21].\n",
      "> 60: N=6825 (6825 exp, 1476 ctl). p = 0.002. OR: 1.22 [1.07 - 1.38].\n",
      "\n",
      "\n"
     ]
    }
   ],
   "source": [
    "# print out final result\n",
    "print('v+z (exp) vs v+c (ctl)')\n",
    "for b in bin_order:\n",
    "    m = egfr_ps[b]\n",
    "    cm = egfr_cm[b]\n",
    "    \n",
    "    pval, R, ci = utils.cmh_test(cm, alpha=0.05)\n",
    "    pval_str = f'= {pval:1.3f}' if pval > 0.001 else '< 0.001'\n",
    "    \n",
    "    n = m.matched_data['match_id'].nunique()\n",
    "    idx = m.matched_data['status'] == 1\n",
    "    n_exposed = m.matched_data.loc[idx]['record_id'].nunique()\n",
    "    n_control = m.matched_data.loc[~idx]['record_id'].nunique()\n",
    "    print(f'{b}: N={n} ({n_exposed} exp, {n_control} ctl). p {pval_str}. OR: {R:3.2f} [{ci[0]:3.2f} - {ci[1]:3.2f}].')\n",
    "\n",
    "print('\\n')"
   ]
  },
  {
   "cell_type": "markdown",
   "metadata": {},
   "source": [
    "## Misc debugging"
   ]
  },
  {
   "cell_type": "code",
   "execution_count": 18,
   "metadata": {},
   "outputs": [
    {
     "ename": "NameError",
     "evalue": "name 'df_matched' is not defined",
     "output_type": "error",
     "traceback": [
      "\u001b[0;31m---------------------------------------------------------------------------\u001b[0m",
      "\u001b[0;31mNameError\u001b[0m                                 Traceback (most recent call last)",
      "\u001b[0;32m<ipython-input-18-e16fe211a612>\u001b[0m in \u001b[0;36m<module>\u001b[0;34m\u001b[0m\n\u001b[1;32m      1\u001b[0m \u001b[0;31m# determine the minority group\u001b[0m\u001b[0;34m\u001b[0m\u001b[0;34m\u001b[0m\u001b[0;34m\u001b[0m\u001b[0m\n\u001b[1;32m      2\u001b[0m \u001b[0;31m# this group will be matched to more than one case\u001b[0m\u001b[0;34m\u001b[0m\u001b[0;34m\u001b[0m\u001b[0;34m\u001b[0m\u001b[0m\n\u001b[0;32m----> 3\u001b[0;31m \u001b[0midxMinority\u001b[0m \u001b[0;34m=\u001b[0m \u001b[0mdf_matched\u001b[0m\u001b[0;34m[\u001b[0m\u001b[0mm\u001b[0m\u001b[0;34m.\u001b[0m\u001b[0myvar\u001b[0m\u001b[0;34m]\u001b[0m \u001b[0;34m==\u001b[0m \u001b[0mm\u001b[0m\u001b[0;34m.\u001b[0m\u001b[0mminority\u001b[0m\u001b[0;34m\u001b[0m\u001b[0;34m\u001b[0m\u001b[0m\n\u001b[0m\u001b[1;32m      4\u001b[0m \u001b[0;34m\u001b[0m\u001b[0m\n\u001b[1;32m      5\u001b[0m df_matched = df_matched.loc[idxMinority].merge(\n",
      "\u001b[0;31mNameError\u001b[0m: name 'df_matched' is not defined"
     ]
    }
   ],
   "source": [
    "# determine the minority group\n",
    "# this group will be matched to more than one case\n",
    "idxMinority = df_matched[m.yvar] == m.minority\n",
    "\n",
    "df_matched = df_matched.loc[idxMinority].merge(\n",
    "    df_matched.loc[~idxMinority],\n",
    "    how='inner',\n",
    "    on='match_id',\n",
    "    suffixes=('_minority', '_majority')\n",
    ")\n",
    "\n",
    "if m.minority == 1:\n",
    "    print('Exposed group is minority.')\n",
    "    df_matched.columns = [c.replace('_minority', '_exposed') for c in df_matched.columns]\n",
    "    df_matched.columns = [c.replace('_majority', '_control') for c in df_matched.columns]\n",
    "else:\n",
    "    print('Exposed group is majority.')\n",
    "    df_matched.columns = [c.replace('_majority', '_exposed') for c in df_matched.columns]\n",
    "    df_matched.columns = [c.replace('_minority', '_control') for c in df_matched.columns]\n",
    "    \n",
    "\n",
    "df_matched.head()"
   ]
  }
 ],
 "metadata": {
  "kernelspec": {
   "display_name": "vanco-renal-toxicity",
   "language": "python",
   "name": "vanco-renal-toxicity"
  },
  "language_info": {
   "codemirror_mode": {
    "name": "ipython",
    "version": 3
   },
   "file_extension": ".py",
   "mimetype": "text/x-python",
   "name": "python",
   "nbconvert_exporter": "python",
   "pygments_lexer": "ipython3",
   "version": "3.7.2"
  }
 },
 "nbformat": 4,
 "nbformat_minor": 2
}
