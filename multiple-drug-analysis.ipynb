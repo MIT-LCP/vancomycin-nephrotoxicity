{
 "cells": [
  {
   "cell_type": "markdown",
   "metadata": {},
   "source": [
    "# Assessment of vancomycin vs. another antibiotic\n",
    "\n",
    "In clinical practice, the pertinent question is often not \"should I use vancomycin?\", but rather \"should I use vancomycin or this other antibiotic?\". This notebook aims to quantify the risk of nephrotoxicity when using vancomycin over the other antibiotic.\n",
    "\n",
    "\n",
    "## Definitions\n",
    "\n",
    "* **drug on admission:** patient received medication order -12 to 12 hours upon admission to the ICU\n",
    "* **baseline creatinine:** first creatinine value between -12 to 12 hours upon admission to the ICU\n",
    "* **AKI:** following KDIGO guidelines using only creatinine, any instance of AKI between 2-7 days after their ICU admission.\n",
    "\n",
    "KDIGO guidelines for AKI are: >= 50% change from baseline over 7 days, or absolute increase of 0.3 in creatinine over 48 hours."
   ]
  },
  {
   "cell_type": "markdown",
   "metadata": {},
   "source": [
    "## 0. Setup"
   ]
  },
  {
   "cell_type": "code",
   "execution_count": null,
   "metadata": {},
   "outputs": [],
   "source": [
    "# Must install pandas-gbq. Link: https://pandas-gbq.readthedocs.io/en/latest/install.html#pip\n",
    "import pandas as pd\n",
    "import numpy as np\n",
    "import matplotlib.pyplot as plt\n",
    "\n",
    "# helper functions stored in local py file\n",
    "import utils\n",
    "\n",
    "project_id='lcp-internal'\n",
    "\n",
    "# Helper function to read data from BigQuery into pandas dataframes.\n",
    "def run_query(query):\n",
    "    return pd.io.gbq.read_gbq(query,\n",
    "                              project_id=project_id, verbose=False,\n",
    "                              dialect='standard')"
   ]
  },
  {
   "cell_type": "markdown",
   "metadata": {},
   "source": [
    "# 1. Extract data and apply exclusions\n",
    "\n",
    "For more detail on exclusions, see the main vancomycin analysis notebook."
   ]
  },
  {
   "cell_type": "code",
   "execution_count": null,
   "metadata": {},
   "outputs": [],
   "source": [
    "# cohort with exclusions applied\n",
    "query = \"\"\"\n",
    "SELECT co.*\n",
    "FROM `lcp-internal.vanco.cohort` co\n",
    "\"\"\"\n",
    "co = run_query(query)\n",
    "\n",
    "# covariates from APACHE table\n",
    "query = \"\"\"\n",
    "SELECT dem.*\n",
    "FROM `hst-953-2018.team_i.demographics` dem\n",
    "\"\"\"\n",
    "dem = run_query(query)\n",
    "\n",
    "# abx drug doses\n",
    "query = \"SELECT * FROM `lcp-internal.vanco.vanco`\"\n",
    "va = run_query(query)\n",
    "\n",
    "query = \"SELECT * FROM `lcp-internal.vanco.cefepime`\"\n",
    "ce = run_query(query)\n",
    "\n",
    "query = \"SELECT * FROM `lcp-internal.vanco.zosyn`\"\n",
    "zo = run_query(query)\n",
    "\n",
    "# other drugs\n",
    "query = \"SELECT * FROM `lcp-internal.vanco.nsaids`\"\n",
    "nsaid = run_query(query)\n",
    "\n",
    "query = \"SELECT * FROM `lcp-internal.vanco.loop_diuretics`\"\n",
    "ld = run_query(query)\n",
    "\n",
    "# AKI\n",
    "query = \"\"\"\n",
    "SELECT \n",
    "  patientunitstayid\n",
    "  , chartoffset\n",
    "  , creatinine, creatinine_reference, creatinine_baseline\n",
    "  , aki_48h, aki_7d\n",
    "FROM `lcp-internal.vanco.aki`\n",
    "\"\"\"\n",
    "aki = run_query(query)"
   ]
  },
  {
   "cell_type": "markdown",
   "metadata": {},
   "source": [
    "## Merge data\n",
    "\n",
    "The antibiotic administration data extracted above has all administrations from time 0.\n",
    "Thus, three dataframes need to be extracted before we can merge data:\n",
    "\n",
    "1. Extract vanco_adm and vanco_wk\n",
    "2. Extract cefepime_adm and cefepime_wk\n",
    "3. Extract zosyn_adm and zosyn_wk"
   ]
  },
  {
   "cell_type": "code",
   "execution_count": null,
   "metadata": {},
   "outputs": [],
   "source": [
    "v_df = utils.extract_adm_and_wk(va, 'vanco')\n",
    "c_df = utils.extract_adm_and_wk(ce, 'cefepime')\n",
    "z_df = utils.extract_adm_and_wk(zo, 'zosyn')\n",
    "\n",
    "v_df.head()"
   ]
  },
  {
   "cell_type": "markdown",
   "metadata": {},
   "source": [
    "Repeat the above for NSAIDs/loop diuretics."
   ]
  },
  {
   "cell_type": "code",
   "execution_count": null,
   "metadata": {},
   "outputs": [],
   "source": [
    "nsaid_df = utils.extract_adm_and_wk(nsaid, 'nsaid')\n",
    "ld_df = utils.extract_adm_and_wk(zo, 'diuretic')\n",
    "ld_df.head()"
   ]
  },
  {
   "cell_type": "markdown",
   "metadata": {},
   "source": [
    "## Apply exclusions and create final dataframe"
   ]
  },
  {
   "cell_type": "code",
   "execution_count": null,
   "metadata": {
    "scrolled": false
   },
   "outputs": [],
   "source": [
    "# drop exclusions\n",
    "idxKeep = co['patientunitstayid'].notnull()\n",
    "for c in co.columns:\n",
    "    if c.startswith('exclude_'):\n",
    "        idxKeep = idxKeep & (co[c]==0)\n",
    "\n",
    "# combine data into single dataframe\n",
    "df = co.loc[idxKeep, ['patientunitstayid']].merge(dem, how='inner', on='patientunitstayid')\n",
    "\n",
    "# add abx administration\n",
    "df = df.merge(v_df, how='left', on='patientunitstayid')\n",
    "df = df.merge(c_df, how='left', on='patientunitstayid')\n",
    "df = df.merge(z_df, how='left', on='patientunitstayid')\n",
    "\n",
    "# if the patient unit stay ID was not present for above join, they did not receive the abx\n",
    "abx_columns = list(v_df.columns) + list(c_df.columns) + list(z_df.columns)\n",
    "for c in abx_columns:\n",
    "    df[c].fillna(0, inplace=True)\n",
    "    df[c] = df[c].astype(int)\n",
    "\n",
    "# add nsaid/loop diuretics\n",
    "df = df.merge(nsaid_df, how='left', on='patientunitstayid')\n",
    "df = df.merge(ld_df, how='left', on='patientunitstayid')\n",
    "\n",
    "# if the patient unit stay ID was not present for above join, they did not receive the drug\n",
    "d_columns = list(nsaid_df.columns) + list(ld_df.columns)\n",
    "for c in d_columns:\n",
    "    df[c].fillna(0, inplace=True)\n",
    "    df[c] = df[c].astype(int)\n",
    "    \n",
    "aki_grp = aki.groupby('patientunitstayid')[['creatinine', 'aki_48h', 'aki_7d']].max()\n",
    "aki_grp.reset_index(inplace=True)\n",
    "df = df.merge(aki_grp, how='inner', on='patientunitstayid')\n",
    "\n",
    "df['aki'] = ((df['aki_48h'] == 1) | (df['aki_7d'] == 1)).astype(int)\n",
    "\n",
    "print('{} patients.'.format(df.shape[0]))\n",
    "\n",
    "print('Antibiotic use on admission to ICU:')\n",
    "for abx in ['vanco', 'cefepime', 'zosyn']:\n",
    "    N = df[abx + '_adm'].sum()\n",
    "    mu = N/df.shape[0]*100.0\n",
    "    print(f'  {N:5d} ({mu:4.1f}%) - {abx}')\n",
    "    \n",
    "    \n",
    "print('\\nConcurrent antibiotic use:')\n",
    "for abx1, abx2 in [['vanco', 'cefepime'], ['vanco', 'zosyn']]:\n",
    "    N = ((df[abx1 + '_adm'] == 1) & (df[abx2 + '_adm'] == 1)).sum()\n",
    "    mu = N/df.shape[0]*100.0\n",
    "    print(f'  {N:5d} ({mu:4.1f}%) - {abx1} & {abx2}')\n",
    "    \n",
    "\n",
    "print('\\nOther drug use on admission to ICU:')\n",
    "for c in ['nsaid', 'diuretic']:\n",
    "    N = df[c + '_adm'].sum()\n",
    "    mu = N/df.shape[0]*100.0\n",
    "    print(f'  {N:5d} ({mu:4.1f}%) - {c}')\n",
    "    \n",
    "df.head()"
   ]
  },
  {
   "cell_type": "markdown",
   "metadata": {},
   "source": [
    "# Propensity matching"
   ]
  },
  {
   "cell_type": "markdown",
   "metadata": {},
   "source": [
    "Define the dataframes used for (1) vanco only, (2) vanco + zosyn, and (3) vanco + cefepime."
   ]
  },
  {
   "cell_type": "markdown",
   "metadata": {},
   "source": [
    "### Vanco + Zosyn vs. Vanco + Cefepime\n",
    "\n",
    "First, perform the comparison looking only at ICU admission drug administration."
   ]
  },
  {
   "cell_type": "code",
   "execution_count": null,
   "metadata": {
    "scrolled": false
   },
   "outputs": [],
   "source": [
    "vanco_zosyn = df[(df['vanco_adm'] == 1) & (df['zosyn_adm'] == 1) & (df['cefepime_adm'] == 0)]\n",
    "vanco_cefepime = df[(df['vanco_adm'] == 1) & (df['zosyn_adm'] == 0) & (df['cefepime_adm'] == 1)]\n",
    "utils.match_and_print_or(exposure=vanco_zosyn, control=vanco_cefepime, seed=842)"
   ]
  },
  {
   "cell_type": "markdown",
   "metadata": {},
   "source": [
    "Next, perform the same analysis requiring the administration to last at least from ICU admission to 48 hours post ICU admission."
   ]
  },
  {
   "cell_type": "code",
   "execution_count": null,
   "metadata": {},
   "outputs": [],
   "source": [
    "idx0 = (df['vanco_adm'] == 1) & (df['zosyn_adm'] == 1) & (df['cefepime_adm'] == 0)\n",
    "idx1 = (df['vanco_wk'] == 1) & (df['zosyn_wk'] == 1) & (df['cefepime_wk'] == 0)\n",
    "vanco_zosyn = df.loc[idx0 & idx1, :]\n",
    "\n",
    "idx0 = (df['vanco_adm'] == 1) & (df['zosyn_adm'] == 0) & (df['cefepime_adm'] == 1)\n",
    "idx1 = (df['vanco_wk'] == 1) & (df['zosyn_wk'] == 0) & (df['cefepime_wk'] == 1)\n",
    "vanco_cefepime = df.loc[idx0 & idx1, :]\n",
    "\n",
    "utils.match_and_print_or(exposure=vanco_zosyn, control=vanco_cefepime, seed=34246)"
   ]
  },
  {
   "cell_type": "markdown",
   "metadata": {},
   "source": [
    "### Vanco vs. Vanco + Zosyn Analysis"
   ]
  },
  {
   "cell_type": "code",
   "execution_count": null,
   "metadata": {},
   "outputs": [],
   "source": [
    "vanco_only = df[(df['vanco_adm'] == 1) & (df['zosyn_adm'] == 0)]\n",
    "vanco_zosyn = df[(df['vanco_adm'] == 1) & (df['zosyn_adm'] == 1)]\n",
    "utils.match_and_print_or(exposure=vanco_zosyn, control=vanco_only, seed=5513)"
   ]
  },
  {
   "cell_type": "markdown",
   "metadata": {},
   "source": [
    "### Vanco vs. Vanco + Cefepime Analysis"
   ]
  },
  {
   "cell_type": "code",
   "execution_count": null,
   "metadata": {},
   "outputs": [],
   "source": [
    "# Vanco + Cefepime Analysis\n",
    "vanco_only = df[(df['vanco_adm'] == 1) & (df['cefepime_adm'] == 0)]\n",
    "vanco_cefepime = df[(df['vanco_adm'] == 1) & (df['cefepime_adm'] == 1)]\n",
    "utils.match_and_print_or(exposure=vanco_cefepime, control=vanco_only, seed=543289)"
   ]
  },
  {
   "cell_type": "markdown",
   "metadata": {},
   "source": [
    "# Other drugs\n",
    "\n",
    "We compare the use of vancomycin with the use of other drugs (either NSAIDs or loop diuretics)."
   ]
  },
  {
   "cell_type": "markdown",
   "metadata": {},
   "source": [
    "## Unmatched comparisons"
   ]
  },
  {
   "cell_type": "markdown",
   "metadata": {},
   "source": [
    "### Vanco vs. Vanco + NSAID (on admission)"
   ]
  },
  {
   "cell_type": "code",
   "execution_count": null,
   "metadata": {},
   "outputs": [],
   "source": [
    "vanco_only = df[(df['vanco_adm'] == 1) & (df['nsaid_adm'] == 0)]\n",
    "vanco_drug = df[(df['vanco_adm'] == 1) & (df['nsaid_adm'] == 1)]\n",
    "\n",
    "print('\\n=== Odds ratio of exposure ===\\n')\n",
    "diseased_exposed = len(vanco_drug[vanco_drug['aki'] == 1])\n",
    "healthy_exposed = len(vanco_drug[vanco_drug['aki'] == 0])\n",
    "diseased_nonexposed = len(vanco_only[vanco_only['aki'] == 1])\n",
    "healthy_nonexposed = len(vanco_only[vanco_only['aki'] == 0])\n",
    "\n",
    "utils.get_odds_ratio(diseased_exposed, healthy_exposed, diseased_nonexposed, healthy_nonexposed)"
   ]
  },
  {
   "cell_type": "markdown",
   "metadata": {},
   "source": [
    "### Vanco vs. Vanco + NSAID (admission + week)"
   ]
  },
  {
   "cell_type": "code",
   "execution_count": null,
   "metadata": {},
   "outputs": [],
   "source": [
    "idx0 = (df['vanco_adm'] == 1) & (df['nsaid_adm'] == 0)\n",
    "idx1 = (df['vanco_wk'] == 1) & (df['nsaid_wk'] == 0)\n",
    "vanco_only = df.loc[idx0 & idx1, :]\n",
    "\n",
    "idx0 = (df['vanco_adm'] == 1) & (df['nsaid_adm'] == 1)\n",
    "idx1 = (df['vanco_wk'] == 1) & (df['nsaid_wk'] == 1)\n",
    "vanco_drug = df.loc[idx0 & idx1, :]\n",
    "\n",
    "print('\\n=== Odds ratio of exposure ===\\n')\n",
    "diseased_exposed = len(vanco_drug[vanco_drug['aki'] == 1])\n",
    "healthy_exposed = len(vanco_drug[vanco_drug['aki'] == 0])\n",
    "diseased_nonexposed = len(vanco_only[vanco_only['aki'] == 1])\n",
    "healthy_nonexposed = len(vanco_only[vanco_only['aki'] == 0])\n",
    "\n",
    "utils.get_odds_ratio(diseased_exposed, healthy_exposed, diseased_nonexposed, healthy_nonexposed)"
   ]
  },
  {
   "cell_type": "markdown",
   "metadata": {},
   "source": [
    "### Vanco vs. Vanco + Loop diuretic (on admission)"
   ]
  },
  {
   "cell_type": "code",
   "execution_count": null,
   "metadata": {},
   "outputs": [],
   "source": [
    "vanco_only = df[(df['vanco_adm'] == 1) & (df['diuretic_adm'] == 0)]\n",
    "vanco_drug = df[(df['vanco_adm'] == 1) & (df['diuretic_adm'] == 1)]\n",
    "\n",
    "print('\\n=== Odds ratio of exposure ===\\n')\n",
    "diseased_exposed = len(vanco_drug[vanco_drug['aki'] == 1])\n",
    "healthy_exposed = len(vanco_drug[vanco_drug['aki'] == 0])\n",
    "diseased_nonexposed = len(vanco_only[vanco_only['aki'] == 1])\n",
    "healthy_nonexposed = len(vanco_only[vanco_only['aki'] == 0])\n",
    "\n",
    "utils.get_odds_ratio(diseased_exposed, healthy_exposed, diseased_nonexposed, healthy_nonexposed)"
   ]
  },
  {
   "cell_type": "code",
   "execution_count": null,
   "metadata": {},
   "outputs": [],
   "source": [
    "idx0 = (df['vanco_adm'] == 1) & (df['diuretic_adm'] == 0)\n",
    "idx1 = (df['vanco_wk'] == 1) & (df['diuretic_wk'] == 0)\n",
    "vanco_only = df.loc[idx0 & idx1, :]\n",
    "\n",
    "idx0 = (df['vanco_adm'] == 1) & (df['diuretic_adm'] == 1)\n",
    "idx1 = (df['vanco_wk'] == 1) & (df['diuretic_wk'] == 1)\n",
    "vanco_drug = df.loc[idx0 & idx1, :]\n",
    "\n",
    "print('\\n=== Odds ratio of exposure ===\\n')\n",
    "diseased_exposed = len(vanco_drug[vanco_drug['aki'] == 1])\n",
    "healthy_exposed = len(vanco_drug[vanco_drug['aki'] == 0])\n",
    "diseased_nonexposed = len(vanco_only[vanco_only['aki'] == 1])\n",
    "healthy_nonexposed = len(vanco_only[vanco_only['aki'] == 0])\n",
    "\n",
    "utils.get_odds_ratio(diseased_exposed, healthy_exposed, diseased_nonexposed, healthy_nonexposed)"
   ]
  },
  {
   "cell_type": "markdown",
   "metadata": {},
   "source": [
    "## Matching on APACHE diagnosis\n",
    "\n",
    "Only looks at ICU admission.\n",
    "\n",
    "### Vanco vs. Vanco + NSAID (admission)"
   ]
  },
  {
   "cell_type": "code",
   "execution_count": null,
   "metadata": {
    "scrolled": false
   },
   "outputs": [],
   "source": [
    "vanco_only = df[(df['vanco_adm'] == 1) & (df['nsaid_adm'] == 0)]\n",
    "vanco_zosyn = df[(df['vanco_adm'] == 1) & (df['nsaid_adm'] == 1)]\n",
    "utils.match_and_print_or(exposure=vanco_zosyn, control=vanco_only, seed=64324)"
   ]
  },
  {
   "cell_type": "markdown",
   "metadata": {},
   "source": [
    "### Vanco vs. Vanco + Loop diuretic (admission)"
   ]
  },
  {
   "cell_type": "code",
   "execution_count": null,
   "metadata": {},
   "outputs": [],
   "source": [
    "vanco_only = df[(df['vanco_adm'] == 1) & (df['diuretic_adm'] == 0)]\n",
    "vanco_zosyn = df[(df['vanco_adm'] == 1) & (df['diuretic_adm'] == 1)]\n",
    "utils.match_and_print_or(exposure=vanco_zosyn, control=vanco_only, seed=4557)"
   ]
  }
 ],
 "metadata": {
  "kernelspec": {
   "display_name": "vanco",
   "language": "python",
   "name": "vanco"
  },
  "language_info": {
   "codemirror_mode": {
    "name": "ipython",
    "version": 3
   },
   "file_extension": ".py",
   "mimetype": "text/x-python",
   "name": "python",
   "nbconvert_exporter": "python",
   "pygments_lexer": "ipython3",
   "version": "3.7.1"
  }
 },
 "nbformat": 4,
 "nbformat_minor": 2
}
