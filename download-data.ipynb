{
 "cells": [
  {
   "cell_type": "markdown",
   "metadata": {
    "colab_type": "text",
    "id": "tQPXBe29OR6y"
   },
   "source": [
    "# Download data from database\n",
    "\n",
    "This notebook is used to download the data from a database to a local folder."
   ]
  },
  {
   "cell_type": "code",
   "execution_count": null,
   "metadata": {
    "colab": {},
    "colab_type": "code",
    "id": "l_spwxBNOR66"
   },
   "outputs": [],
   "source": [
    "from collections import OrderedDict\n",
    "import os\n",
    "\n",
    "import pandas as pd\n",
    "import psycopg2\n",
    "\n",
    "import utils\n",
    "\n",
    "# Helper function to read data from database\n",
    "conn_info = \"host='localhost' dbname='eicu' user='alistairewj' port=5647\"\n",
    "con = psycopg2.connect(conn_info)\n",
    "\n",
    "def run_query(query, con=con):\n",
    "    return pd.read_sql_query(query, con)"
   ]
  },
  {
   "cell_type": "code",
   "execution_count": null,
   "metadata": {
    "scrolled": true
   },
   "outputs": [],
   "source": [
    "if not os.path.exists('data'):\n",
    "    os.makedirs('data')\n",
    "\n",
    "# tables is a dictionary which maps CSV name to database table name\n",
    "tables = utils.TABLES\n",
    "\n",
    "for t, tbl in tables.items():\n",
    "    print(f'{t} ...', end=' ')\n",
    "    df = run_query(f'select * from {tbl}')\n",
    "    \n",
    "    # manual fixes to column names\n",
    "    if t == 'sepsis_infection':\n",
    "        df.rename(columns={'sepsis': 'sepsis_explicit'}, inplace=True)\n",
    "        \n",
    "    df.to_csv(f'data/{t}.csv.gz', index=False, header=True, compression='gzip')\n",
    "    print('done.')\n",
    "\n",
    "con.close()"
   ]
  }
 ],
 "metadata": {
  "colab": {
   "collapsed_sections": [],
   "name": "vancomycin-propensity-score.ipynb",
   "provenance": [],
   "version": "0.3.2"
  },
  "kernelspec": {
   "display_name": "vanco-renal-toxicity",
   "language": "python",
   "name": "vanco-renal-toxicity"
  },
  "language_info": {
   "codemirror_mode": {
    "name": "ipython",
    "version": 3
   },
   "file_extension": ".py",
   "mimetype": "text/x-python",
   "name": "python",
   "nbconvert_exporter": "python",
   "pygments_lexer": "ipython3",
   "version": "3.7.2"
  }
 },
 "nbformat": 4,
 "nbformat_minor": 1
}
