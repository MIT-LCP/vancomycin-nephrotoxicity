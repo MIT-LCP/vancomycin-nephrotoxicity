{
 "cells": [
  {
   "cell_type": "markdown",
   "metadata": {
    "colab_type": "text",
    "id": "tQPXBe29OR6y"
   },
   "source": [
    "# Assessment of nephrotoxicity of vancomycin\n",
    "\n",
    "The aim of this study was to quantify the association between nephrotoxicity and vancomycin in a large, multi-center US database.\n",
    "The study matches patients who were admitted to the emergency department and received vancomycin on ICU admission versus those who did not receive vancomycin on admission. The matching is done using a propensity score built using the following covariates:\n",
    "\n",
    "* presence of sepsis or septic shock\n",
    "  * SIRS, lactate, elevated WBC, hypotension, fever\n",
    "* soft tissue infection/skin infections (?cellulitis, or APACHE admission diagnosis Sepsis:skin)\n",
    "* risk factors for community acquired MRSA\n",
    "* risk factors for MDR in general (hospitalization for more than 48 hours in the last 90 days, residence in a nursing home or extended care facility, home infusion therapy, chronic dialysis within one month, home wound care)\n",
    "* known colonization with MRSA\n",
    "* immunocompromized state even in the absence of shock (probably captured through the comorbidity fields)\n",
    "\n",
    "## Definitions\n",
    "\n",
    "* **drug on admission:** patient received medication order -12 to 12 hours upon admission to the ICU\n",
    "* **baseline creatinine:** first creatinine value between -12 to 12 hours upon admission to the ICU\n",
    "* **AKI:** following KDIGO guidelines using only creatinine, any instance of AKI between 2-7 days after their ICU admission.\n",
    "\n",
    "KDIGO guidelines for AKI are: >= 50% change from baseline over 7 days, or absolute increase of 0.3 in creatinine over 48 hours."
   ]
  },
  {
   "cell_type": "markdown",
   "metadata": {
    "colab_type": "text",
    "id": "OgCj2KxROR64"
   },
   "source": [
    "## 0. Setup"
   ]
  },
  {
   "cell_type": "code",
   "execution_count": 1,
   "metadata": {
    "colab": {},
    "colab_type": "code",
    "id": "l_spwxBNOR66"
   },
   "outputs": [],
   "source": [
    "import warnings\n",
    "\n",
    "import pandas as pd\n",
    "import numpy as np\n",
    "import matplotlib.pyplot as plt\n",
    "import psycopg2\n",
    "import pymatch\n",
    "from pymatch.Matcher import Matcher\n",
    "\n",
    "%matplotlib inline\n",
    "\n",
    "# helper functions stored in local py file\n",
    "import utils\n",
    "\n",
    "# Helper function to read data from database\n",
    "conn_info = \"host='localhost' dbname='eicu' user='alistairewj' port=5432\"\n",
    "con = psycopg2.connect(conn_info)\n",
    "\n",
    "def run_query(query):\n",
    "    return pd.read_sql_query(query, con)"
   ]
  },
  {
   "cell_type": "markdown",
   "metadata": {
    "colab_type": "text",
    "id": "9x4FwqnkOR7C"
   },
   "source": [
    "# 1. Summarize cohort"
   ]
  },
  {
   "cell_type": "code",
   "execution_count": 2,
   "metadata": {
    "colab": {
     "base_uri": "https://localhost:8080/",
     "height": 71
    },
    "colab_type": "code",
    "id": "wpTb5iwGOR7E",
    "outputId": "d0d85d4e-3945-459c-8e85-0270e686388b"
   },
   "outputs": [],
   "source": [
    "co = run_query(\"select * from vanco.cohort\")"
   ]
  },
  {
   "cell_type": "code",
   "execution_count": 3,
   "metadata": {
    "colab": {
     "base_uri": "https://localhost:8080/",
     "height": 408
    },
    "colab_type": "code",
    "id": "61UwphwvOR7J",
    "outputId": "25882fd2-c479-42cd-9a2d-a96efa82dfa4"
   },
   "outputs": [
    {
     "name": "stdout",
     "output_type": "stream",
     "text": [
      "== EXCLUSIONS - TOTAL ==\n",
      "200859 unique unit stays.\n",
      "       0 ( 0.0%) - exclude_before_2005\n",
      "   25239 (12.6%) - exclude_sdu\n",
      "    4930 ( 2.5%) - exclude_short_stay\n",
      "  111265 (55.4%) - exclude_non_ed_admit\n",
      "   12280 ( 6.1%) - exclude_secondary_stay\n",
      "   33622 (16.7%) - exclude_no_med_interface\n",
      "    8059 ( 4.0%) - exclude_dialysis_chronic\n",
      "   18265 ( 9.1%) - exclude_dialysis_first_week\n",
      "   31408 (15.6%) - exclude_cr_missing_baseline\n",
      "   72199 (35.9%) - exclude_cr_missing_followup\n",
      "\n",
      "== EXCLUSIONS - SEQUENTIAL ==\n",
      " 200859 unique unit stays.\n",
      "-     0 = 200859 ( 0.0% removed) - exclude_before_2005\n",
      "- 25239 = 175620 (12.6% removed) - exclude_sdu\n",
      "-  3286 = 172334 ( 1.6% removed) - exclude_short_stay\n",
      "- 87643 =  84691 (43.6% removed) - exclude_non_ed_admit\n",
      "- 11597 =  73094 ( 5.8% removed) - exclude_secondary_stay\n",
      "- 14907 =  58187 ( 7.4% removed) - exclude_no_med_interface\n",
      "-  2235 =  55952 ( 1.1% removed) - exclude_dialysis_chronic\n",
      "-  3341 =  52611 ( 1.7% removed) - exclude_dialysis_first_week\n",
      "-  3199 =  49412 ( 1.6% removed) - exclude_cr_missing_baseline\n",
      "- 20896 =  28516 (10.4% removed) - exclude_cr_missing_followup\n"
     ]
    }
   ],
   "source": [
    "print('== EXCLUSIONS - TOTAL ==')\n",
    "N = co.shape[0]\n",
    "print(f'{N:6d} unique unit stays.')\n",
    "for c in co.columns:\n",
    "    if c.startswith('exclude_'):\n",
    "        N = co[c].sum()\n",
    "        mu = co[c].mean()*100.0\n",
    "        print(f'  {N:6d} ({mu:4.1f}%) - {c}')\n",
    "        \n",
    "print('\\n== EXCLUSIONS - SEQUENTIAL ==')\n",
    "N = co.shape[0]\n",
    "print(f'{N:7d} unique unit stays.')\n",
    "idx = co['patientunitstayid'].notnull()\n",
    "for c in co.columns:\n",
    "    if c.startswith('exclude_'):\n",
    "        # index patients removed by this exclusion\n",
    "        idxRem = (co[c]==1)\n",
    "        # calculate number of patients being removed, after applying prev excl\n",
    "        N = (idx & idxRem).sum()\n",
    "        mu = N/co.shape[0]*100.0\n",
    "        idx = idx & (~idxRem)\n",
    "        n_rem = idx.sum()\n",
    "        \n",
    "        print(f'- {N:5d} = {n_rem:6d} ({mu:4.1f}% removed) - {c}')"
   ]
  },
  {
   "cell_type": "markdown",
   "metadata": {
    "colab_type": "text",
    "id": "ILMzDgZXOR7R"
   },
   "source": [
    "# 3. Analysis\n",
    "\n",
    "\n",
    "## Get data from database"
   ]
  },
  {
   "cell_type": "code",
   "execution_count": 4,
   "metadata": {
    "colab": {
     "base_uri": "https://localhost:8080/",
     "height": 71
    },
    "colab_type": "code",
    "id": "Q7UOZzuxOR7S",
    "outputId": "fb8b364f-34fd-4e5d-84f4-87dddda0388c"
   },
   "outputs": [],
   "source": [
    "# covariates from APACHE table\n",
    "dem = run_query(\"SELECT dem.* FROM vanco.demographics dem\")\n",
    "\n",
    "# vancomycin drug doses\n",
    "v = run_query(\"SELECT v.* FROM vanco.vanco v\")\n",
    "\n",
    "# AKI\n",
    "query = \"\"\"\n",
    "SELECT \n",
    "  patientunitstayid\n",
    "  , chartoffset\n",
    "  , creatinine, creatinine_reference, creatinine_baseline\n",
    "  , aki_48h, aki_7d\n",
    "FROM vanco.aki\n",
    "\"\"\"\n",
    "aki = run_query(query)"
   ]
  },
  {
   "cell_type": "code",
   "execution_count": 5,
   "metadata": {
    "colab": {
     "base_uri": "https://localhost:8080/",
     "height": 71
    },
    "colab_type": "code",
    "id": "Q7UOZzuxOR7S",
    "outputId": "fb8b364f-34fd-4e5d-84f4-87dddda0388c"
   },
   "outputs": [],
   "source": [
    "# APACHE\n",
    "query = \"\"\"\n",
    "SELECT \n",
    "  patientunitstayid\n",
    "  , apache_prob\n",
    "  , immunocompromised\n",
    "FROM vanco.apache\n",
    "\"\"\"\n",
    "apache = run_query(query)\n",
    "\n",
    "# convert apache predictions into numeric\n",
    "apache['apache_prob'] = pd.to_numeric(apache['apache_prob'])\n",
    "\n",
    "# sepsis/infection/organ failure\n",
    "query = \"\"\"\n",
    "SELECT \n",
    "  patientunitstayid\n",
    "  , sepsis\n",
    "  , infection\n",
    "  , organfailure\n",
    "  , infection_skin_soft_tissue\n",
    "FROM vanco.sepsis_infection\n",
    "\"\"\"\n",
    "dx = run_query(query)"
   ]
  },
  {
   "cell_type": "markdown",
   "metadata": {
    "colab_type": "text",
    "id": "1B2n7NxMOR7W"
   },
   "source": [
    "## Collapse vancomycin data\n",
    "\n",
    "The `v` dataframe has every vancomycin administration for a patient.\n",
    "\n",
    "Here we collapse it into two binary columns:\n",
    "\n",
    "* 'vanco_adm' - vancomycin was administered on ICU admission (between hours -12 and 12)\n",
    "* 'vanco_wk' - vancomycin was administered sometime between 2-7 days after ICU admission"
   ]
  },
  {
   "cell_type": "code",
   "execution_count": 6,
   "metadata": {
    "colab": {},
    "colab_type": "code",
    "id": "UdPtve8QOR7X"
   },
   "outputs": [],
   "source": [
    "v_df = utils.extract_adm_and_wk(v, 'vanco')"
   ]
  },
  {
   "cell_type": "markdown",
   "metadata": {
    "colab_type": "text",
    "id": "xrVoa0LbOR7b"
   },
   "source": [
    "Print out the proportion of patients with/without vancomycin after exclusions."
   ]
  },
  {
   "cell_type": "code",
   "execution_count": 7,
   "metadata": {
    "colab": {
     "base_uri": "https://localhost:8080/",
     "height": 85
    },
    "colab_type": "code",
    "id": "GusklUk4OR7b",
    "outputId": "e2bfa01c-0038-475f-af04-82e7c10291ed"
   },
   "outputs": [
    {
     "name": "stdout",
     "output_type": "stream",
     "text": [
      "28516 stays after exclusions.\n",
      "  4609 (16.2%) with vanco_adm\n",
      "  3901 (13.7%) with vanco_wk\n",
      "  2204 (7.7%) with both\n"
     ]
    }
   ],
   "source": [
    "# get patient unit stay ID after applying exclusions\n",
    "idxKeep = co['patientunitstayid'].notnull()\n",
    "for c in co.columns:\n",
    "    if c.startswith('exclude_'):\n",
    "        idxKeep = idxKeep & (co[c]==0)\n",
    "        \n",
    "ptid = co.loc[idxKeep, 'patientunitstayid'].values\n",
    "n_pt = len(ptid)\n",
    "# limit to those in vancomycin dataframe\n",
    "ptid = [x for x in ptid if x in v_df.index]\n",
    "\n",
    "N = len(ptid)\n",
    "print(f'{n_pt} stays after exclusions.')\n",
    "for c in v_df.columns:\n",
    "    N = v_df.loc[ptid, c].sum()\n",
    "    mu = N / n_pt * 100.0\n",
    "    print(f'  {N} ({mu:3.1f}%) with {c}')\n",
    "    \n",
    "# if they have both adm, then row-wise sum must be greater than 1\n",
    "N = (v_df.loc[ptid, :] == 1).sum(axis=1)\n",
    "N = (N>1).sum()\n",
    "mu = N / n_pt * 100.0\n",
    "print(f'  {N} ({mu:3.1f}%) with both')"
   ]
  },
  {
   "cell_type": "markdown",
   "metadata": {
    "colab_type": "text",
    "id": "VkSDKeDtOR7f"
   },
   "source": [
    "## Create a dataframe for analysis\n",
    "\n",
    "The below code block:\n",
    "\n",
    "* Applies exclusions\n",
    "* Adds vancomycin binary flags\n",
    "* Adds AKI flag"
   ]
  },
  {
   "cell_type": "code",
   "execution_count": 32,
   "metadata": {
    "colab": {
     "base_uri": "https://localhost:8080/",
     "height": 241
    },
    "colab_type": "code",
    "id": "Bq3EZ8eiOR7g",
    "outputId": "f5f8c323-0808-4592-9d18-0aeeaa41e8b0",
    "scrolled": true
   },
   "outputs": [
    {
     "name": "stdout",
     "output_type": "stream",
     "text": [
      "(28516, 22)\n"
     ]
    },
    {
     "data": {
      "text/html": [
       "<div>\n",
       "<style scoped>\n",
       "    .dataframe tbody tr th:only-of-type {\n",
       "        vertical-align: middle;\n",
       "    }\n",
       "\n",
       "    .dataframe tbody tr th {\n",
       "        vertical-align: top;\n",
       "    }\n",
       "\n",
       "    .dataframe thead th {\n",
       "        text-align: right;\n",
       "    }\n",
       "</style>\n",
       "<table border=\"1\" class=\"dataframe\">\n",
       "  <thead>\n",
       "    <tr style=\"text-align: right;\">\n",
       "      <th></th>\n",
       "      <th>unitdischargeoffset</th>\n",
       "      <th>age</th>\n",
       "      <th>gender</th>\n",
       "      <th>weight_kg</th>\n",
       "      <th>height_cm</th>\n",
       "      <th>bmi</th>\n",
       "      <th>bmi_group</th>\n",
       "      <th>apachescore</th>\n",
       "      <th>apache_group</th>\n",
       "      <th>vanco_adm</th>\n",
       "      <th>...</th>\n",
       "      <th>aki_48h</th>\n",
       "      <th>aki_7d</th>\n",
       "      <th>aki</th>\n",
       "      <th>apache_prob</th>\n",
       "      <th>immunocompromised</th>\n",
       "      <th>sepsis</th>\n",
       "      <th>infection</th>\n",
       "      <th>organfailure</th>\n",
       "      <th>infection_skin_soft_tissue</th>\n",
       "      <th>sepsis_all</th>\n",
       "    </tr>\n",
       "    <tr>\n",
       "      <th>patientunitstayid</th>\n",
       "      <th></th>\n",
       "      <th></th>\n",
       "      <th></th>\n",
       "      <th></th>\n",
       "      <th></th>\n",
       "      <th></th>\n",
       "      <th></th>\n",
       "      <th></th>\n",
       "      <th></th>\n",
       "      <th></th>\n",
       "      <th></th>\n",
       "      <th></th>\n",
       "      <th></th>\n",
       "      <th></th>\n",
       "      <th></th>\n",
       "      <th></th>\n",
       "      <th></th>\n",
       "      <th></th>\n",
       "      <th></th>\n",
       "      <th></th>\n",
       "      <th></th>\n",
       "    </tr>\n",
       "  </thead>\n",
       "  <tbody>\n",
       "    <tr>\n",
       "      <th>141197</th>\n",
       "      <td>74</td>\n",
       "      <td>71</td>\n",
       "      <td>Male</td>\n",
       "      <td>102.10</td>\n",
       "      <td>162.6</td>\n",
       "      <td>39.0</td>\n",
       "      <td>overweight</td>\n",
       "      <td>NaN</td>\n",
       "      <td>None</td>\n",
       "      <td>0</td>\n",
       "      <td>...</td>\n",
       "      <td>0</td>\n",
       "      <td>0</td>\n",
       "      <td>0</td>\n",
       "      <td>NaN</td>\n",
       "      <td>no</td>\n",
       "      <td>1</td>\n",
       "      <td>0</td>\n",
       "      <td>0</td>\n",
       "      <td>no</td>\n",
       "      <td>yes</td>\n",
       "    </tr>\n",
       "    <tr>\n",
       "      <th>141288</th>\n",
       "      <td>1631</td>\n",
       "      <td>61</td>\n",
       "      <td>Female</td>\n",
       "      <td>83.69</td>\n",
       "      <td>162.6</td>\n",
       "      <td>32.0</td>\n",
       "      <td>overweight</td>\n",
       "      <td>33.0</td>\n",
       "      <td>31-40</td>\n",
       "      <td>1</td>\n",
       "      <td>...</td>\n",
       "      <td>0</td>\n",
       "      <td>0</td>\n",
       "      <td>0</td>\n",
       "      <td>0.026199</td>\n",
       "      <td>no</td>\n",
       "      <td>1</td>\n",
       "      <td>1</td>\n",
       "      <td>1</td>\n",
       "      <td>no</td>\n",
       "      <td>yes</td>\n",
       "    </tr>\n",
       "    <tr>\n",
       "      <th>141360</th>\n",
       "      <td>3109</td>\n",
       "      <td>48</td>\n",
       "      <td>Male</td>\n",
       "      <td>91.35</td>\n",
       "      <td>175.3</td>\n",
       "      <td>30.0</td>\n",
       "      <td>overweight</td>\n",
       "      <td>22.0</td>\n",
       "      <td>21-30</td>\n",
       "      <td>0</td>\n",
       "      <td>...</td>\n",
       "      <td>0</td>\n",
       "      <td>0</td>\n",
       "      <td>0</td>\n",
       "      <td>0.029281</td>\n",
       "      <td>no</td>\n",
       "      <td>0</td>\n",
       "      <td>0</td>\n",
       "      <td>0</td>\n",
       "      <td>no</td>\n",
       "      <td>no</td>\n",
       "    </tr>\n",
       "    <tr>\n",
       "      <th>141392</th>\n",
       "      <td>961</td>\n",
       "      <td>78</td>\n",
       "      <td>Female</td>\n",
       "      <td>90.80</td>\n",
       "      <td>160.0</td>\n",
       "      <td>35.0</td>\n",
       "      <td>overweight</td>\n",
       "      <td>35.0</td>\n",
       "      <td>31-40</td>\n",
       "      <td>0</td>\n",
       "      <td>...</td>\n",
       "      <td>0</td>\n",
       "      <td>0</td>\n",
       "      <td>0</td>\n",
       "      <td>0.021379</td>\n",
       "      <td>no</td>\n",
       "      <td>1</td>\n",
       "      <td>1</td>\n",
       "      <td>1</td>\n",
       "      <td>no</td>\n",
       "      <td>yes</td>\n",
       "    </tr>\n",
       "    <tr>\n",
       "      <th>141436</th>\n",
       "      <td>2167</td>\n",
       "      <td>46</td>\n",
       "      <td>Male</td>\n",
       "      <td>69.95</td>\n",
       "      <td>167.6</td>\n",
       "      <td>25.0</td>\n",
       "      <td>overweight</td>\n",
       "      <td>56.0</td>\n",
       "      <td>51-60</td>\n",
       "      <td>0</td>\n",
       "      <td>...</td>\n",
       "      <td>0</td>\n",
       "      <td>0</td>\n",
       "      <td>0</td>\n",
       "      <td>0.108486</td>\n",
       "      <td>no</td>\n",
       "      <td>0</td>\n",
       "      <td>0</td>\n",
       "      <td>1</td>\n",
       "      <td>no</td>\n",
       "      <td>no</td>\n",
       "    </tr>\n",
       "  </tbody>\n",
       "</table>\n",
       "<p>5 rows × 22 columns</p>\n",
       "</div>"
      ],
      "text/plain": [
       "                   unitdischargeoffset  age  gender  weight_kg  height_cm  \\\n",
       "patientunitstayid                                                           \n",
       "141197                              74   71    Male     102.10      162.6   \n",
       "141288                            1631   61  Female      83.69      162.6   \n",
       "141360                            3109   48    Male      91.35      175.3   \n",
       "141392                             961   78  Female      90.80      160.0   \n",
       "141436                            2167   46    Male      69.95      167.6   \n",
       "\n",
       "                    bmi   bmi_group  apachescore apache_group  vanco_adm  \\\n",
       "patientunitstayid                                                          \n",
       "141197             39.0  overweight          NaN         None          0   \n",
       "141288             32.0  overweight         33.0        31-40          1   \n",
       "141360             30.0  overweight         22.0        21-30          0   \n",
       "141392             35.0  overweight         35.0        31-40          0   \n",
       "141436             25.0  overweight         56.0        51-60          0   \n",
       "\n",
       "                      ...      aki_48h  aki_7d  aki  apache_prob  \\\n",
       "patientunitstayid     ...                                          \n",
       "141197                ...            0       0    0          NaN   \n",
       "141288                ...            0       0    0     0.026199   \n",
       "141360                ...            0       0    0     0.029281   \n",
       "141392                ...            0       0    0     0.021379   \n",
       "141436                ...            0       0    0     0.108486   \n",
       "\n",
       "                   immunocompromised  sepsis infection  organfailure  \\\n",
       "patientunitstayid                                                      \n",
       "141197                            no       1         0             0   \n",
       "141288                            no       1         1             1   \n",
       "141360                            no       0         0             0   \n",
       "141392                            no       1         1             1   \n",
       "141436                            no       0         0             1   \n",
       "\n",
       "                   infection_skin_soft_tissue  sepsis_all  \n",
       "patientunitstayid                                          \n",
       "141197                                     no         yes  \n",
       "141288                                     no         yes  \n",
       "141360                                     no          no  \n",
       "141392                                     no         yes  \n",
       "141436                                     no          no  \n",
       "\n",
       "[5 rows x 22 columns]"
      ]
     },
     "execution_count": 32,
     "metadata": {},
     "output_type": "execute_result"
    }
   ],
   "source": [
    "# drop exclusions\n",
    "idxKeep = co['patientunitstayid'].notnull()\n",
    "for c in co.columns:\n",
    "    if c.startswith('exclude_'):\n",
    "        idxKeep = idxKeep & (co[c]==0)\n",
    "\n",
    "# combine data into single dataframe\n",
    "df = co.loc[idxKeep, ['patientunitstayid']].merge(dem, how='inner', on='patientunitstayid')\n",
    "\n",
    "# add vanco administration\n",
    "df = df.merge(v_df, how='left', on='patientunitstayid')\n",
    "\n",
    "# if ptid missing in vanco dataframe, then no vanco was received\n",
    "# therefore impute 0\n",
    "for c in v_df.columns:\n",
    "    df[c].fillna(0, inplace=True)\n",
    "    df[c] = df[c].astype(int)\n",
    "\n",
    "aki_grp = aki.groupby('patientunitstayid')[['creatinine', 'aki_48h', 'aki_7d']].max()\n",
    "aki_grp.reset_index(inplace=True)\n",
    "df = df.merge(aki_grp, how='inner', on='patientunitstayid')\n",
    "\n",
    "df['aki'] = ((df['aki_48h'] == 1) | (df['aki_7d'] == 1)).astype(int)\n",
    "\n",
    "# add in apache/diagnosis data\n",
    "df = df.merge(apache, how='left', on='patientunitstayid')\n",
    "for c in apache.columns:\n",
    "    if c != 'apache_prob':\n",
    "        df[c].fillna(0, inplace=True)\n",
    "        df[c] = df[c].astype(int)\n",
    "df = df.merge(dx, how='left', on='patientunitstayid')\n",
    "for c in dx.columns:\n",
    "    df[c].fillna(0, inplace=True)\n",
    "    df[c] = df[c].astype(int)\n",
    "\n",
    "df['sepsis_all'] = (df['sepsis'] == 1) | ((df['infection'] == 1) & (df['organfailure'] == 1))\n",
    "df['sepsis_all'] = df['sepsis_all'].astype(int)\n",
    "\n",
    "# convert binary vars to string so they are interpreted as categorical\n",
    "for c in ['immunocompromised', 'sepsis_all', 'infection_skin_soft_tissue']:\n",
    "    df[c] = df[c].map({0: 'no', 1: 'yes'})\n",
    "\n",
    "# avoid conflicts in column names with pymatch\n",
    "df.rename(columns={'weight': 'weight_kg', 'height': 'height_cm'}, inplace=True)\n",
    "\n",
    "# ensure apache/age are continuous\n",
    "idx = df['age'] == '> 89'\n",
    "df.loc[idx, 'age'] = 90\n",
    "df['age'] = df['age'].astype(int)\n",
    "\n",
    "idx = df['apachescore'] == -1\n",
    "df.loc[idx, 'apachescore'] = np.nan\n",
    "df['apachescore'] = df['apachescore'].astype(float)\n",
    "\n",
    "idx = df['apache_group'] == '-1'\n",
    "df.loc[idx, 'apache_group'] = 'missing'\n",
    "\n",
    "# set patientunitstayid as index\n",
    "df.set_index('patientunitstayid', inplace=True)\n",
    "df.sort_index(inplace=True)\n",
    "print(df.shape)\n",
    "df.head()"
   ]
  },
  {
   "cell_type": "markdown",
   "metadata": {
    "colab_type": "text",
    "id": "7k4ihRZjOR7k"
   },
   "source": [
    "## Propensity matching"
   ]
  },
  {
   "cell_type": "code",
   "execution_count": 29,
   "metadata": {},
   "outputs": [],
   "source": [
    "# pymatch complains a lot!\n",
    "warnings.filterwarnings('ignore')"
   ]
  },
  {
   "cell_type": "code",
   "execution_count": 30,
   "metadata": {
    "colab": {
     "base_uri": "https://localhost:8080/",
     "height": 380
    },
    "colab_type": "code",
    "id": "fSU3Tja5SQax",
    "outputId": "93ceeaa0-f5cc-49d9-fa98-152ec5ad77f1"
   },
   "outputs": [
    {
     "name": "stdout",
     "output_type": "stream",
     "text": [
      "\n",
      "=== Cross-tabulation of vanco on admission vs. vanco during the week (days 2-7) ===\n"
     ]
    },
    {
     "data": {
      "text/html": [
       "<div>\n",
       "<style scoped>\n",
       "    .dataframe tbody tr th:only-of-type {\n",
       "        vertical-align: middle;\n",
       "    }\n",
       "\n",
       "    .dataframe tbody tr th {\n",
       "        vertical-align: top;\n",
       "    }\n",
       "\n",
       "    .dataframe thead th {\n",
       "        text-align: right;\n",
       "    }\n",
       "</style>\n",
       "<table border=\"1\" class=\"dataframe\">\n",
       "  <thead>\n",
       "    <tr style=\"text-align: right;\">\n",
       "      <th>vanco_wk</th>\n",
       "      <th>0</th>\n",
       "      <th>1</th>\n",
       "      <th>All</th>\n",
       "    </tr>\n",
       "    <tr>\n",
       "      <th>vanco_adm</th>\n",
       "      <th></th>\n",
       "      <th></th>\n",
       "      <th></th>\n",
       "    </tr>\n",
       "  </thead>\n",
       "  <tbody>\n",
       "    <tr>\n",
       "      <th>0</th>\n",
       "      <td>22210</td>\n",
       "      <td>1697</td>\n",
       "      <td>23907</td>\n",
       "    </tr>\n",
       "    <tr>\n",
       "      <th>1</th>\n",
       "      <td>2405</td>\n",
       "      <td>2204</td>\n",
       "      <td>4609</td>\n",
       "    </tr>\n",
       "    <tr>\n",
       "      <th>All</th>\n",
       "      <td>24615</td>\n",
       "      <td>3901</td>\n",
       "      <td>28516</td>\n",
       "    </tr>\n",
       "  </tbody>\n",
       "</table>\n",
       "</div>"
      ],
      "text/plain": [
       "vanco_wk       0     1    All\n",
       "vanco_adm                    \n",
       "0          22210  1697  23907\n",
       "1           2405  2204   4609\n",
       "All        24615  3901  28516"
      ]
     },
     "metadata": {},
     "output_type": "display_data"
    },
    {
     "name": "stdout",
     "output_type": "stream",
     "text": [
      "Normalized:\n"
     ]
    },
    {
     "data": {
      "text/html": [
       "<div>\n",
       "<style scoped>\n",
       "    .dataframe tbody tr th:only-of-type {\n",
       "        vertical-align: middle;\n",
       "    }\n",
       "\n",
       "    .dataframe tbody tr th {\n",
       "        vertical-align: top;\n",
       "    }\n",
       "\n",
       "    .dataframe thead th {\n",
       "        text-align: right;\n",
       "    }\n",
       "</style>\n",
       "<table border=\"1\" class=\"dataframe\">\n",
       "  <thead>\n",
       "    <tr style=\"text-align: right;\">\n",
       "      <th>vanco_wk</th>\n",
       "      <th>0</th>\n",
       "      <th>1</th>\n",
       "      <th>All</th>\n",
       "    </tr>\n",
       "    <tr>\n",
       "      <th>vanco_adm</th>\n",
       "      <th></th>\n",
       "      <th></th>\n",
       "      <th></th>\n",
       "    </tr>\n",
       "  </thead>\n",
       "  <tbody>\n",
       "    <tr>\n",
       "      <th>0</th>\n",
       "      <td>0.778861</td>\n",
       "      <td>0.05951</td>\n",
       "      <td>0.838371</td>\n",
       "    </tr>\n",
       "    <tr>\n",
       "      <th>1</th>\n",
       "      <td>0.084339</td>\n",
       "      <td>0.07729</td>\n",
       "      <td>0.161629</td>\n",
       "    </tr>\n",
       "    <tr>\n",
       "      <th>All</th>\n",
       "      <td>0.863200</td>\n",
       "      <td>0.13680</td>\n",
       "      <td>1.000000</td>\n",
       "    </tr>\n",
       "  </tbody>\n",
       "</table>\n",
       "</div>"
      ],
      "text/plain": [
       "vanco_wk          0        1       All\n",
       "vanco_adm                             \n",
       "0          0.778861  0.05951  0.838371\n",
       "1          0.084339  0.07729  0.161629\n",
       "All        0.863200  0.13680  1.000000"
      ]
     },
     "metadata": {},
     "output_type": "display_data"
    }
   ],
   "source": [
    "# Vanco + No Vanco Analysis\n",
    "print('\\n=== Cross-tabulation of vanco on admission vs. vanco during the week (days 2-7) ===')\n",
    "display(pd.crosstab(df['vanco_adm'], df['vanco_wk'], margins=True))\n",
    "print('Normalized:')\n",
    "display(pd.crosstab(df['vanco_adm'], df['vanco_wk'], margins=True, normalize=True))"
   ]
  },
  {
   "cell_type": "markdown",
   "metadata": {
    "colab_type": "text",
    "id": "iHz919QXSTNf"
   },
   "source": [
    "Our first (preliminary) propensity score will use only APACHE-IV as the covariate."
   ]
  },
  {
   "cell_type": "code",
   "execution_count": 33,
   "metadata": {},
   "outputs": [
    {
     "name": "stdout",
     "output_type": "stream",
     "text": [
      "Dataframe being used:\n"
     ]
    },
    {
     "data": {
      "text/html": [
       "<div>\n",
       "<style scoped>\n",
       "    .dataframe tbody tr th:only-of-type {\n",
       "        vertical-align: middle;\n",
       "    }\n",
       "\n",
       "    .dataframe tbody tr th {\n",
       "        vertical-align: top;\n",
       "    }\n",
       "\n",
       "    .dataframe thead th {\n",
       "        text-align: right;\n",
       "    }\n",
       "</style>\n",
       "<table border=\"1\" class=\"dataframe\">\n",
       "  <thead>\n",
       "    <tr style=\"text-align: right;\">\n",
       "      <th></th>\n",
       "      <th>vanco_status</th>\n",
       "      <th>age</th>\n",
       "      <th>apache_prob</th>\n",
       "      <th>sepsis</th>\n",
       "      <th>infection_skin_soft_tissue</th>\n",
       "      <th>immunocompromised</th>\n",
       "    </tr>\n",
       "    <tr>\n",
       "      <th>patientunitstayid</th>\n",
       "      <th></th>\n",
       "      <th></th>\n",
       "      <th></th>\n",
       "      <th></th>\n",
       "      <th></th>\n",
       "      <th></th>\n",
       "    </tr>\n",
       "  </thead>\n",
       "  <tbody>\n",
       "    <tr>\n",
       "      <th>141288</th>\n",
       "      <td>1</td>\n",
       "      <td>61</td>\n",
       "      <td>0.026199</td>\n",
       "      <td>1</td>\n",
       "      <td>no</td>\n",
       "      <td>no</td>\n",
       "    </tr>\n",
       "    <tr>\n",
       "      <th>141751</th>\n",
       "      <td>1</td>\n",
       "      <td>60</td>\n",
       "      <td>NaN</td>\n",
       "      <td>1</td>\n",
       "      <td>no</td>\n",
       "      <td>no</td>\n",
       "    </tr>\n",
       "    <tr>\n",
       "      <th>141771</th>\n",
       "      <td>1</td>\n",
       "      <td>52</td>\n",
       "      <td>0.243177</td>\n",
       "      <td>0</td>\n",
       "      <td>no</td>\n",
       "      <td>no</td>\n",
       "    </tr>\n",
       "    <tr>\n",
       "      <th>142002</th>\n",
       "      <td>1</td>\n",
       "      <td>59</td>\n",
       "      <td>0.513290</td>\n",
       "      <td>0</td>\n",
       "      <td>no</td>\n",
       "      <td>no</td>\n",
       "    </tr>\n",
       "    <tr>\n",
       "      <th>142209</th>\n",
       "      <td>1</td>\n",
       "      <td>73</td>\n",
       "      <td>0.128382</td>\n",
       "      <td>1</td>\n",
       "      <td>no</td>\n",
       "      <td>no</td>\n",
       "    </tr>\n",
       "  </tbody>\n",
       "</table>\n",
       "</div>"
      ],
      "text/plain": [
       "                   vanco_status  age  apache_prob  sepsis  \\\n",
       "patientunitstayid                                           \n",
       "141288                        1   61     0.026199       1   \n",
       "141751                        1   60          NaN       1   \n",
       "141771                        1   52     0.243177       0   \n",
       "142002                        1   59     0.513290       0   \n",
       "142209                        1   73     0.128382       1   \n",
       "\n",
       "                  infection_skin_soft_tissue immunocompromised  \n",
       "patientunitstayid                                               \n",
       "141288                                    no                no  \n",
       "141751                                    no                no  \n",
       "141771                                    no                no  \n",
       "142002                                    no                no  \n",
       "142209                                    no                no  "
      ]
     },
     "metadata": {},
     "output_type": "display_data"
    },
    {
     "name": "stdout",
     "output_type": "stream",
     "text": [
      "Formula:\n",
      "vanco_status ~ age+apache_prob+immunocompromised+sepsis+infection_skin_soft_tissue\n",
      "n majority: 19500\n",
      "n minority: 4149\n"
     ]
    }
   ],
   "source": [
    "# INITIAL VANCO vs. NO VANCO\n",
    "test = df[(df['vanco_adm'] == 1)].copy()\n",
    "control = df[(df['vanco_wk'] == 0) & (df['vanco_adm'] == 0)].copy()\n",
    "test['vanco_status'] = 1\n",
    "control['vanco_status'] = 0\n",
    "\n",
    "# vars we retain:\n",
    "cols = ['vanco_status', 'age', 'apache_prob', 'sepsis', 'infection_skin_soft_tissue', 'immunocompromised']\n",
    "cols_exclude = [c for c in test.columns if c not in cols]\n",
    "\n",
    "print('Dataframe being used:')\n",
    "display(test[cols].head())\n",
    "\n",
    "m = Matcher(test, control, yvar=\"vanco_status\", exclude=cols_exclude)"
   ]
  },
  {
   "cell_type": "code",
   "execution_count": 34,
   "metadata": {},
   "outputs": [
    {
     "name": "stdout",
     "output_type": "stream",
     "text": [
      "Fitting Models on Balanced Samples: 10\\10\n",
      "Average Accuracy: 73.37%\n"
     ]
    }
   ],
   "source": [
    "np.random.seed(94020)\n",
    "# predict the y outcome balancing the classes\n",
    "# repeat 100 times to be sure we use a lot of majority class data\n",
    "m.fit_scores(balance=True, nmodels=10)"
   ]
  },
  {
   "cell_type": "code",
   "execution_count": 35,
   "metadata": {
    "colab": {
     "base_uri": "https://localhost:8080/",
     "height": 350
    },
    "colab_type": "code",
    "id": "5ZvD6k0l68xp",
    "outputId": "e7091196-c8c3-4fa3-a320-116c10cee7c5"
   },
   "outputs": [
    {
     "data": {
      "image/png": "[encoded data removed]",
      "text/plain": [
       "<Figure size 720x360 with 1 Axes>"
      ]
     },
     "metadata": {
      "needs_background": "light"
     },
     "output_type": "display_data"
    }
   ],
   "source": [
    "m.predict_scores()\n",
    "m.plot_scores()"
   ]
  },
  {
   "cell_type": "markdown",
   "metadata": {
    "colab_type": "text",
    "id": "QI2Os8aldLS9"
   },
   "source": [
    "Determine the best caliper for matching scores."
   ]
  },
  {
   "cell_type": "code",
   "execution_count": 36,
   "metadata": {
    "colab": {
     "base_uri": "https://localhost:8080/",
     "height": 350
    },
    "colab_type": "code",
    "id": "FQpvKcTOco5n",
    "outputId": "66ce6851-f5f3-4e21-b69e-6c064ce71f36"
   },
   "outputs": [
    {
     "data": {
      "image/png": "[encoded data removed]",
      "text/plain": [
       "<Figure size 720x360 with 1 Axes>"
      ]
     },
     "metadata": {
      "needs_background": "light"
     },
     "output_type": "display_data"
    }
   ],
   "source": [
    "m.tune_threshold(method='random')"
   ]
  },
  {
   "cell_type": "markdown",
   "metadata": {
    "colab_type": "text",
    "id": "vZZEk2LWdPef"
   },
   "source": [
    "The above tells us that a calpier of 0.0005 will allow ~100% of data to be matched.\n",
    "\n",
    "Next we allow for sampling with replacement using the above threshold of 0.0005."
   ]
  },
  {
   "cell_type": "code",
   "execution_count": 37,
   "metadata": {
    "colab": {
     "base_uri": "https://localhost:8080/",
     "height": 297
    },
    "colab_type": "code",
    "id": "sY1sy6-VcvO8",
    "outputId": "e57f6e07-a065-436d-ed17-5a02c2df592a"
   },
   "outputs": [
    {
     "data": {
      "text/html": [
       "<div>\n",
       "<style scoped>\n",
       "    .dataframe tbody tr th:only-of-type {\n",
       "        vertical-align: middle;\n",
       "    }\n",
       "\n",
       "    .dataframe tbody tr th {\n",
       "        vertical-align: top;\n",
       "    }\n",
       "\n",
       "    .dataframe thead th {\n",
       "        text-align: right;\n",
       "    }\n",
       "</style>\n",
       "<table border=\"1\" class=\"dataframe\">\n",
       "  <thead>\n",
       "    <tr style=\"text-align: right;\">\n",
       "      <th></th>\n",
       "      <th>freq</th>\n",
       "      <th>n_records</th>\n",
       "    </tr>\n",
       "  </thead>\n",
       "  <tbody>\n",
       "    <tr>\n",
       "      <th>0</th>\n",
       "      <td>1</td>\n",
       "      <td>6302</td>\n",
       "    </tr>\n",
       "    <tr>\n",
       "      <th>1</th>\n",
       "      <td>2</td>\n",
       "      <td>478</td>\n",
       "    </tr>\n",
       "    <tr>\n",
       "      <th>2</th>\n",
       "      <td>3</td>\n",
       "      <td>184</td>\n",
       "    </tr>\n",
       "    <tr>\n",
       "      <th>3</th>\n",
       "      <td>4</td>\n",
       "      <td>67</td>\n",
       "    </tr>\n",
       "    <tr>\n",
       "      <th>4</th>\n",
       "      <td>5</td>\n",
       "      <td>22</td>\n",
       "    </tr>\n",
       "    <tr>\n",
       "      <th>5</th>\n",
       "      <td>6</td>\n",
       "      <td>12</td>\n",
       "    </tr>\n",
       "    <tr>\n",
       "      <th>6</th>\n",
       "      <td>7</td>\n",
       "      <td>2</td>\n",
       "    </tr>\n",
       "    <tr>\n",
       "      <th>7</th>\n",
       "      <td>8</td>\n",
       "      <td>3</td>\n",
       "    </tr>\n",
       "  </tbody>\n",
       "</table>\n",
       "</div>"
      ],
      "text/plain": [
       "   freq  n_records\n",
       "0     1       6302\n",
       "1     2        478\n",
       "2     3        184\n",
       "3     4         67\n",
       "4     5         22\n",
       "5     6         12\n",
       "6     7          2\n",
       "7     8          3"
      ]
     },
     "execution_count": 37,
     "metadata": {},
     "output_type": "execute_result"
    }
   ],
   "source": [
    "m.match(method=\"min\", nmatches=1, threshold=0.0005)\n",
    "m.record_frequency()"
   ]
  },
  {
   "cell_type": "markdown",
   "metadata": {
    "colab_type": "text",
    "id": "EtWFH7U-dZCh"
   },
   "source": [
    "Generate a weight vector accounting for sampling with replacement."
   ]
  },
  {
   "cell_type": "code",
   "execution_count": 38,
   "metadata": {
    "colab": {},
    "colab_type": "code",
    "id": "aMASK8ZZdZnW"
   },
   "outputs": [],
   "source": [
    "m.assign_weight_vector()"
   ]
  },
  {
   "cell_type": "markdown",
   "metadata": {
    "colab_type": "text",
    "id": "nq73FKAle1HK"
   },
   "source": [
    "`m` has also assigned a match_id to each record indicating paired matches (since we use nmatches=1). We can verify that matched records have scores within 0.0005 of each other.\n",
    "\n"
   ]
  },
  {
   "cell_type": "code",
   "execution_count": 39,
   "metadata": {
    "colab": {
     "base_uri": "https://localhost:8080/",
     "height": 255
    },
    "colab_type": "code",
    "id": "Fd7VyrQbe0DL",
    "outputId": "9bdac6b0-0e4e-4332-f768-102097d11a04"
   },
   "outputs": [
    {
     "data": {
      "text/html": [
       "<div>\n",
       "<style scoped>\n",
       "    .dataframe tbody tr th:only-of-type {\n",
       "        vertical-align: middle;\n",
       "    }\n",
       "\n",
       "    .dataframe tbody tr th {\n",
       "        vertical-align: top;\n",
       "    }\n",
       "\n",
       "    .dataframe thead th {\n",
       "        text-align: right;\n",
       "    }\n",
       "</style>\n",
       "<table border=\"1\" class=\"dataframe\">\n",
       "  <thead>\n",
       "    <tr style=\"text-align: right;\">\n",
       "      <th></th>\n",
       "      <th>record_id</th>\n",
       "      <th>weight</th>\n",
       "      <th>unitdischargeoffset</th>\n",
       "      <th>age</th>\n",
       "      <th>gender</th>\n",
       "      <th>weight_kg</th>\n",
       "      <th>height_cm</th>\n",
       "      <th>bmi</th>\n",
       "      <th>bmi_group</th>\n",
       "      <th>apachescore</th>\n",
       "      <th>...</th>\n",
       "      <th>apache_prob</th>\n",
       "      <th>immunocompromised</th>\n",
       "      <th>sepsis</th>\n",
       "      <th>infection</th>\n",
       "      <th>organfailure</th>\n",
       "      <th>infection_skin_soft_tissue</th>\n",
       "      <th>sepsis_all</th>\n",
       "      <th>vanco_status</th>\n",
       "      <th>scores</th>\n",
       "      <th>match_id</th>\n",
       "    </tr>\n",
       "  </thead>\n",
       "  <tbody>\n",
       "    <tr>\n",
       "      <th>0</th>\n",
       "      <td>0</td>\n",
       "      <td>1.0</td>\n",
       "      <td>1631</td>\n",
       "      <td>61</td>\n",
       "      <td>Female</td>\n",
       "      <td>83.69</td>\n",
       "      <td>162.6</td>\n",
       "      <td>32.0</td>\n",
       "      <td>overweight</td>\n",
       "      <td>33.0</td>\n",
       "      <td>...</td>\n",
       "      <td>0.026199</td>\n",
       "      <td>no</td>\n",
       "      <td>1</td>\n",
       "      <td>1</td>\n",
       "      <td>1</td>\n",
       "      <td>no</td>\n",
       "      <td>yes</td>\n",
       "      <td>1</td>\n",
       "      <td>0.735148</td>\n",
       "      <td>0</td>\n",
       "    </tr>\n",
       "    <tr>\n",
       "      <th>4839</th>\n",
       "      <td>7798</td>\n",
       "      <td>0.5</td>\n",
       "      <td>2461</td>\n",
       "      <td>67</td>\n",
       "      <td>Female</td>\n",
       "      <td>79.90</td>\n",
       "      <td>160.0</td>\n",
       "      <td>31.0</td>\n",
       "      <td>overweight</td>\n",
       "      <td>52.0</td>\n",
       "      <td>...</td>\n",
       "      <td>0.040434</td>\n",
       "      <td>no</td>\n",
       "      <td>1</td>\n",
       "      <td>1</td>\n",
       "      <td>1</td>\n",
       "      <td>no</td>\n",
       "      <td>yes</td>\n",
       "      <td>0</td>\n",
       "      <td>0.735174</td>\n",
       "      <td>0</td>\n",
       "    </tr>\n",
       "    <tr>\n",
       "      <th>1</th>\n",
       "      <td>2</td>\n",
       "      <td>1.0</td>\n",
       "      <td>7999</td>\n",
       "      <td>52</td>\n",
       "      <td>Female</td>\n",
       "      <td>62.79</td>\n",
       "      <td>165.1</td>\n",
       "      <td>23.0</td>\n",
       "      <td>normal</td>\n",
       "      <td>99.0</td>\n",
       "      <td>...</td>\n",
       "      <td>0.243177</td>\n",
       "      <td>no</td>\n",
       "      <td>0</td>\n",
       "      <td>0</td>\n",
       "      <td>0</td>\n",
       "      <td>no</td>\n",
       "      <td>no</td>\n",
       "      <td>1</td>\n",
       "      <td>0.369541</td>\n",
       "      <td>1</td>\n",
       "    </tr>\n",
       "    <tr>\n",
       "      <th>8052</th>\n",
       "      <td>25307</td>\n",
       "      <td>1.0</td>\n",
       "      <td>16043</td>\n",
       "      <td>80</td>\n",
       "      <td>Female</td>\n",
       "      <td>79.00</td>\n",
       "      <td>167.0</td>\n",
       "      <td>28.0</td>\n",
       "      <td>overweight</td>\n",
       "      <td>61.0</td>\n",
       "      <td>...</td>\n",
       "      <td>0.309296</td>\n",
       "      <td>no</td>\n",
       "      <td>0</td>\n",
       "      <td>0</td>\n",
       "      <td>0</td>\n",
       "      <td>no</td>\n",
       "      <td>no</td>\n",
       "      <td>0</td>\n",
       "      <td>0.369531</td>\n",
       "      <td>1</td>\n",
       "    </tr>\n",
       "    <tr>\n",
       "      <th>2</th>\n",
       "      <td>3</td>\n",
       "      <td>1.0</td>\n",
       "      <td>3897</td>\n",
       "      <td>59</td>\n",
       "      <td>Male</td>\n",
       "      <td>85.71</td>\n",
       "      <td>177.8</td>\n",
       "      <td>27.0</td>\n",
       "      <td>overweight</td>\n",
       "      <td>87.0</td>\n",
       "      <td>...</td>\n",
       "      <td>0.513290</td>\n",
       "      <td>no</td>\n",
       "      <td>0</td>\n",
       "      <td>0</td>\n",
       "      <td>0</td>\n",
       "      <td>no</td>\n",
       "      <td>no</td>\n",
       "      <td>1</td>\n",
       "      <td>0.500564</td>\n",
       "      <td>2</td>\n",
       "    </tr>\n",
       "    <tr>\n",
       "      <th>8007</th>\n",
       "      <td>24997</td>\n",
       "      <td>1.0</td>\n",
       "      <td>1998</td>\n",
       "      <td>72</td>\n",
       "      <td>Male</td>\n",
       "      <td>79.30</td>\n",
       "      <td>188.0</td>\n",
       "      <td>22.0</td>\n",
       "      <td>normal</td>\n",
       "      <td>95.0</td>\n",
       "      <td>...</td>\n",
       "      <td>0.543986</td>\n",
       "      <td>no</td>\n",
       "      <td>0</td>\n",
       "      <td>0</td>\n",
       "      <td>1</td>\n",
       "      <td>no</td>\n",
       "      <td>no</td>\n",
       "      <td>0</td>\n",
       "      <td>0.500563</td>\n",
       "      <td>2</td>\n",
       "    </tr>\n",
       "  </tbody>\n",
       "</table>\n",
       "<p>6 rows × 27 columns</p>\n",
       "</div>"
      ],
      "text/plain": [
       "      record_id  weight  unitdischargeoffset  age  gender  weight_kg  \\\n",
       "0             0     1.0                 1631   61  Female      83.69   \n",
       "4839       7798     0.5                 2461   67  Female      79.90   \n",
       "1             2     1.0                 7999   52  Female      62.79   \n",
       "8052      25307     1.0                16043   80  Female      79.00   \n",
       "2             3     1.0                 3897   59    Male      85.71   \n",
       "8007      24997     1.0                 1998   72    Male      79.30   \n",
       "\n",
       "      height_cm   bmi   bmi_group  apachescore    ...    apache_prob  \\\n",
       "0         162.6  32.0  overweight         33.0    ...       0.026199   \n",
       "4839      160.0  31.0  overweight         52.0    ...       0.040434   \n",
       "1         165.1  23.0      normal         99.0    ...       0.243177   \n",
       "8052      167.0  28.0  overweight         61.0    ...       0.309296   \n",
       "2         177.8  27.0  overweight         87.0    ...       0.513290   \n",
       "8007      188.0  22.0      normal         95.0    ...       0.543986   \n",
       "\n",
       "      immunocompromised  sepsis  infection  organfailure  \\\n",
       "0                    no       1          1             1   \n",
       "4839                 no       1          1             1   \n",
       "1                    no       0          0             0   \n",
       "8052                 no       0          0             0   \n",
       "2                    no       0          0             0   \n",
       "8007                 no       0          0             1   \n",
       "\n",
       "      infection_skin_soft_tissue  sepsis_all  vanco_status    scores  match_id  \n",
       "0                             no         yes             1  0.735148         0  \n",
       "4839                          no         yes             0  0.735174         0  \n",
       "1                             no          no             1  0.369541         1  \n",
       "8052                          no          no             0  0.369531         1  \n",
       "2                             no          no             1  0.500564         2  \n",
       "8007                          no          no             0  0.500563         2  \n",
       "\n",
       "[6 rows x 27 columns]"
      ]
     },
     "execution_count": 39,
     "metadata": {},
     "output_type": "execute_result"
    }
   ],
   "source": [
    "m.matched_data.sort_values(\"match_id\").head(n=6)"
   ]
  },
  {
   "cell_type": "code",
   "execution_count": 41,
   "metadata": {
    "colab": {
     "base_uri": "https://localhost:8080/",
     "height": 1219
    },
    "colab_type": "code",
    "id": "W94giasRfMww",
    "outputId": "1279c037-279d-4642-faf9-d96d8f2d162d"
   },
   "outputs": [
    {
     "data": {
      "image/png": "[encoded data removed]",
      "text/plain": [
       "<Figure size 720x360 with 1 Axes>"
      ]
     },
     "metadata": {
      "needs_background": "light"
     },
     "output_type": "display_data"
    },
    {
     "data": {
      "image/png": "[encoded data removed]",
      "text/plain": [
       "<Figure size 720x360 with 1 Axes>"
      ]
     },
     "metadata": {
      "needs_background": "light"
     },
     "output_type": "display_data"
    }
   ],
   "source": [
    "# no categorical variables -> this errors\n",
    "categorical_results = m.compare_categorical(return_table=True)"
   ]
  },
  {
   "cell_type": "code",
   "execution_count": 42,
   "metadata": {
    "colab": {
     "base_uri": "https://localhost:8080/",
     "height": 949
    },
    "colab_type": "code",
    "id": "rCx0tMPJg0Lr",
    "outputId": "23446e79-cd18-4855-f8b0-3768b3d12d4a"
   },
   "outputs": [
    {
     "data": {
      "text/html": [
       "<div>\n",
       "<style scoped>\n",
       "    .dataframe tbody tr th:only-of-type {\n",
       "        vertical-align: middle;\n",
       "    }\n",
       "\n",
       "    .dataframe tbody tr th {\n",
       "        vertical-align: top;\n",
       "    }\n",
       "\n",
       "    .dataframe thead th {\n",
       "        text-align: right;\n",
       "    }\n",
       "</style>\n",
       "<table border=\"1\" class=\"dataframe\">\n",
       "  <thead>\n",
       "    <tr style=\"text-align: right;\">\n",
       "      <th></th>\n",
       "      <th>var</th>\n",
       "      <th>ks_before</th>\n",
       "      <th>ks_after</th>\n",
       "      <th>grouped_chisqr_before</th>\n",
       "      <th>grouped_chisqr_after</th>\n",
       "      <th>std_median_diff_before</th>\n",
       "      <th>std_median_diff_after</th>\n",
       "      <th>std_mean_diff_before</th>\n",
       "      <th>std_mean_diff_after</th>\n",
       "    </tr>\n",
       "  </thead>\n",
       "  <tbody>\n",
       "    <tr>\n",
       "      <th>0</th>\n",
       "      <td>age</td>\n",
       "      <td>0.0</td>\n",
       "      <td>0.248</td>\n",
       "      <td>0.001</td>\n",
       "      <td>0.033</td>\n",
       "      <td>0.057802</td>\n",
       "      <td>0.000000</td>\n",
       "      <td>0.063782</td>\n",
       "      <td>0.008098</td>\n",
       "    </tr>\n",
       "    <tr>\n",
       "      <th>1</th>\n",
       "      <td>apache_prob</td>\n",
       "      <td>0.0</td>\n",
       "      <td>0.160</td>\n",
       "      <td>1.000</td>\n",
       "      <td>1.000</td>\n",
       "      <td>0.297223</td>\n",
       "      <td>-0.001064</td>\n",
       "      <td>0.376533</td>\n",
       "      <td>-0.041233</td>\n",
       "    </tr>\n",
       "    <tr>\n",
       "      <th>2</th>\n",
       "      <td>sepsis</td>\n",
       "      <td>0.0</td>\n",
       "      <td>0.864</td>\n",
       "      <td>1.000</td>\n",
       "      <td>1.000</td>\n",
       "      <td>2.356519</td>\n",
       "      <td>0.000000</td>\n",
       "      <td>1.071542</td>\n",
       "      <td>0.003952</td>\n",
       "    </tr>\n",
       "  </tbody>\n",
       "</table>\n",
       "</div>"
      ],
      "text/plain": [
       "           var  ks_before  ks_after  grouped_chisqr_before  \\\n",
       "0          age        0.0     0.248                  0.001   \n",
       "1  apache_prob        0.0     0.160                  1.000   \n",
       "2       sepsis        0.0     0.864                  1.000   \n",
       "\n",
       "   grouped_chisqr_after  std_median_diff_before  std_median_diff_after  \\\n",
       "0                 0.033                0.057802               0.000000   \n",
       "1                 1.000                0.297223              -0.001064   \n",
       "2                 1.000                2.356519               0.000000   \n",
       "\n",
       "   std_mean_diff_before  std_mean_diff_after  \n",
       "0              0.063782             0.008098  \n",
       "1              0.376533            -0.041233  \n",
       "2              1.071542             0.003952  "
      ]
     },
     "metadata": {},
     "output_type": "display_data"
    },
    {
     "data": {
      "image/png": "[encoded data removed]",
      "text/plain": [
       "<Figure size 864x360 with 2 Axes>"
      ]
     },
     "metadata": {
      "needs_background": "light"
     },
     "output_type": "display_data"
    },
    {
     "data": {
      "image/png": "[encoded data removed]",
      "text/plain": [
       "<Figure size 864x360 with 2 Axes>"
      ]
     },
     "metadata": {
      "needs_background": "light"
     },
     "output_type": "display_data"
    },
    {
     "data": {
      "image/png": "[encoded data removed]",
      "text/plain": [
       "<Figure size 864x360 with 2 Axes>"
      ]
     },
     "metadata": {
      "needs_background": "light"
     },
     "output_type": "display_data"
    }
   ],
   "source": [
    "cc = m.compare_continuous(return_table=True)\n",
    "display(cc)"
   ]
  },
  {
   "cell_type": "code",
   "execution_count": 43,
   "metadata": {
    "colab": {
     "base_uri": "https://localhost:8080/",
     "height": 241
    },
    "colab_type": "code",
    "id": "zJxTiFkahTtf",
    "outputId": "f159941a-a010-4633-b8f5-671cfd3b85b1"
   },
   "outputs": [
    {
     "name": "stdout",
     "output_type": "stream",
     "text": [
      "(4149, 53)\n"
     ]
    },
    {
     "data": {
      "text/html": [
       "<div>\n",
       "<style scoped>\n",
       "    .dataframe tbody tr th:only-of-type {\n",
       "        vertical-align: middle;\n",
       "    }\n",
       "\n",
       "    .dataframe tbody tr th {\n",
       "        vertical-align: top;\n",
       "    }\n",
       "\n",
       "    .dataframe thead th {\n",
       "        text-align: right;\n",
       "    }\n",
       "</style>\n",
       "<table border=\"1\" class=\"dataframe\">\n",
       "  <thead>\n",
       "    <tr style=\"text-align: right;\">\n",
       "      <th></th>\n",
       "      <th>record_id_control</th>\n",
       "      <th>weight_control</th>\n",
       "      <th>unitdischargeoffset_control</th>\n",
       "      <th>age_control</th>\n",
       "      <th>gender_control</th>\n",
       "      <th>weight_kg_control</th>\n",
       "      <th>height_cm_control</th>\n",
       "      <th>bmi_control</th>\n",
       "      <th>bmi_group_control</th>\n",
       "      <th>apachescore_control</th>\n",
       "      <th>...</th>\n",
       "      <th>aki_exposure</th>\n",
       "      <th>apache_prob_exposure</th>\n",
       "      <th>immunocompromised_exposure</th>\n",
       "      <th>sepsis_exposure</th>\n",
       "      <th>infection_exposure</th>\n",
       "      <th>organfailure_exposure</th>\n",
       "      <th>infection_skin_soft_tissue_exposure</th>\n",
       "      <th>sepsis_all_exposure</th>\n",
       "      <th>vanco_status_exposure</th>\n",
       "      <th>scores_exposure</th>\n",
       "    </tr>\n",
       "  </thead>\n",
       "  <tbody>\n",
       "    <tr>\n",
       "      <th>0</th>\n",
       "      <td>4610</td>\n",
       "      <td>1.0</td>\n",
       "      <td>3109</td>\n",
       "      <td>48</td>\n",
       "      <td>Male</td>\n",
       "      <td>91.35</td>\n",
       "      <td>175.3</td>\n",
       "      <td>30.0</td>\n",
       "      <td>overweight</td>\n",
       "      <td>22.0</td>\n",
       "      <td>...</td>\n",
       "      <td>0</td>\n",
       "      <td>0.055275</td>\n",
       "      <td>no</td>\n",
       "      <td>0</td>\n",
       "      <td>1</td>\n",
       "      <td>0</td>\n",
       "      <td>no</td>\n",
       "      <td>no</td>\n",
       "      <td>1</td>\n",
       "      <td>0.275501</td>\n",
       "    </tr>\n",
       "    <tr>\n",
       "      <th>1</th>\n",
       "      <td>4611</td>\n",
       "      <td>0.5</td>\n",
       "      <td>961</td>\n",
       "      <td>78</td>\n",
       "      <td>Female</td>\n",
       "      <td>90.80</td>\n",
       "      <td>160.0</td>\n",
       "      <td>35.0</td>\n",
       "      <td>overweight</td>\n",
       "      <td>35.0</td>\n",
       "      <td>...</td>\n",
       "      <td>0</td>\n",
       "      <td>0.036058</td>\n",
       "      <td>no</td>\n",
       "      <td>1</td>\n",
       "      <td>1</td>\n",
       "      <td>1</td>\n",
       "      <td>no</td>\n",
       "      <td>yes</td>\n",
       "      <td>1</td>\n",
       "      <td>0.716400</td>\n",
       "    </tr>\n",
       "    <tr>\n",
       "      <th>2</th>\n",
       "      <td>4611</td>\n",
       "      <td>0.5</td>\n",
       "      <td>961</td>\n",
       "      <td>78</td>\n",
       "      <td>Female</td>\n",
       "      <td>90.80</td>\n",
       "      <td>160.0</td>\n",
       "      <td>35.0</td>\n",
       "      <td>overweight</td>\n",
       "      <td>35.0</td>\n",
       "      <td>...</td>\n",
       "      <td>0</td>\n",
       "      <td>0.024486</td>\n",
       "      <td>no</td>\n",
       "      <td>1</td>\n",
       "      <td>1</td>\n",
       "      <td>1</td>\n",
       "      <td>no</td>\n",
       "      <td>yes</td>\n",
       "      <td>1</td>\n",
       "      <td>0.716510</td>\n",
       "    </tr>\n",
       "    <tr>\n",
       "      <th>3</th>\n",
       "      <td>4623</td>\n",
       "      <td>1.0</td>\n",
       "      <td>778</td>\n",
       "      <td>82</td>\n",
       "      <td>Female</td>\n",
       "      <td>47.67</td>\n",
       "      <td>154.9</td>\n",
       "      <td>20.0</td>\n",
       "      <td>normal</td>\n",
       "      <td>41.0</td>\n",
       "      <td>...</td>\n",
       "      <td>1</td>\n",
       "      <td>0.029518</td>\n",
       "      <td>no</td>\n",
       "      <td>1</td>\n",
       "      <td>1</td>\n",
       "      <td>1</td>\n",
       "      <td>no</td>\n",
       "      <td>yes</td>\n",
       "      <td>1</td>\n",
       "      <td>0.721695</td>\n",
       "    </tr>\n",
       "    <tr>\n",
       "      <th>4</th>\n",
       "      <td>4629</td>\n",
       "      <td>1.0</td>\n",
       "      <td>2586</td>\n",
       "      <td>65</td>\n",
       "      <td>Male</td>\n",
       "      <td>129.31</td>\n",
       "      <td>182.9</td>\n",
       "      <td>39.0</td>\n",
       "      <td>overweight</td>\n",
       "      <td>83.0</td>\n",
       "      <td>...</td>\n",
       "      <td>0</td>\n",
       "      <td>0.189609</td>\n",
       "      <td>no</td>\n",
       "      <td>0</td>\n",
       "      <td>0</td>\n",
       "      <td>1</td>\n",
       "      <td>no</td>\n",
       "      <td>no</td>\n",
       "      <td>1</td>\n",
       "      <td>0.307359</td>\n",
       "    </tr>\n",
       "  </tbody>\n",
       "</table>\n",
       "<p>5 rows × 53 columns</p>\n",
       "</div>"
      ],
      "text/plain": [
       "   record_id_control  weight_control  unitdischargeoffset_control  \\\n",
       "0               4610             1.0                         3109   \n",
       "1               4611             0.5                          961   \n",
       "2               4611             0.5                          961   \n",
       "3               4623             1.0                          778   \n",
       "4               4629             1.0                         2586   \n",
       "\n",
       "   age_control gender_control  weight_kg_control  height_cm_control  \\\n",
       "0           48           Male              91.35              175.3   \n",
       "1           78         Female              90.80              160.0   \n",
       "2           78         Female              90.80              160.0   \n",
       "3           82         Female              47.67              154.9   \n",
       "4           65           Male             129.31              182.9   \n",
       "\n",
       "   bmi_control bmi_group_control  apachescore_control       ...         \\\n",
       "0         30.0        overweight                 22.0       ...          \n",
       "1         35.0        overweight                 35.0       ...          \n",
       "2         35.0        overweight                 35.0       ...          \n",
       "3         20.0            normal                 41.0       ...          \n",
       "4         39.0        overweight                 83.0       ...          \n",
       "\n",
       "  aki_exposure  apache_prob_exposure  immunocompromised_exposure  \\\n",
       "0            0              0.055275                          no   \n",
       "1            0              0.036058                          no   \n",
       "2            0              0.024486                          no   \n",
       "3            1              0.029518                          no   \n",
       "4            0              0.189609                          no   \n",
       "\n",
       "   sepsis_exposure  infection_exposure  organfailure_exposure  \\\n",
       "0                0                   1                      0   \n",
       "1                1                   1                      1   \n",
       "2                1                   1                      1   \n",
       "3                1                   1                      1   \n",
       "4                0                   0                      1   \n",
       "\n",
       "   infection_skin_soft_tissue_exposure  sepsis_all_exposure  \\\n",
       "0                                   no                   no   \n",
       "1                                   no                  yes   \n",
       "2                                   no                  yes   \n",
       "3                                   no                  yes   \n",
       "4                                   no                   no   \n",
       "\n",
       "  vanco_status_exposure  scores_exposure  \n",
       "0                     1         0.275501  \n",
       "1                     1         0.716400  \n",
       "2                     1         0.716510  \n",
       "3                     1         0.721695  \n",
       "4                     1         0.307359  \n",
       "\n",
       "[5 rows x 53 columns]"
      ]
     },
     "execution_count": 43,
     "metadata": {},
     "output_type": "execute_result"
    }
   ],
   "source": [
    "# now grab the matched data into a single dataframe\n",
    "m_control = m.matched_data.loc[m.matched_data['vanco_status']==0].copy()\n",
    "m_exposure = m.matched_data.loc[m.matched_data['vanco_status']==1].copy()\n",
    "\n",
    "\n",
    "df_matched = m_control.merge(m_exposure, how='left', on='match_id',\n",
    "                             suffixes=('_control', '_exposure'))\n",
    "\n",
    "print(df_matched.shape)\n",
    "\n",
    "df_matched.head()"
   ]
  },
  {
   "cell_type": "code",
   "execution_count": 44,
   "metadata": {},
   "outputs": [
    {
     "name": "stdout",
     "output_type": "stream",
     "text": [
      "\n",
      "=== Odds ratio of exposure ===\n",
      "\n",
      "Diseased + Exposed: 1441\n",
      "Healthy + Exposed: 2708\n",
      "Diseased + Nonexposed: 1322\n",
      "Healthy + Nonexposed: 2827\n",
      "Odds Ratio: 1.1379146117180672\n",
      "95% CI: (1.0385469850851303, 1.2467896803487808)\n"
     ]
    }
   ],
   "source": [
    "# Calculate Odds Ratio\n",
    "print('\\n=== Odds ratio of exposure ===\\n')\n",
    "diseased_exposed = len(m_exposure[m_exposure['aki'] == 1])\n",
    "healthy_exposed = len(m_exposure[m_exposure['aki'] == 0])\n",
    "diseased_nonexposed = len(m_control[m_control['aki'] == 1])\n",
    "healthy_nonexposed = len(m_control[m_control['aki'] == 0])\n",
    "\n",
    "utils.get_odds_ratio(diseased_exposed, healthy_exposed, diseased_nonexposed, healthy_nonexposed)"
   ]
  },
  {
   "cell_type": "code",
   "execution_count": 45,
   "metadata": {
    "colab": {
     "base_uri": "https://localhost:8080/",
     "height": 170
    },
    "colab_type": "code",
    "id": "pkMTdBvIieaM",
    "outputId": "9ee54f7a-a3d6-4947-ad47-28606d907826"
   },
   "outputs": [
    {
     "name": "stdout",
     "output_type": "stream",
     "text": [
      "\n",
      "=== Odds ratio of exposure ===\n",
      "\n",
      "Diseased + Exposed: 1441\n",
      "Healthy + Exposed: 2708\n",
      "Diseased + Nonexposed: 1322\n",
      "Healthy + Nonexposed: 2827\n",
      "Odds Ratio: 1.1379146117180672\n",
      "95% CI: (1.0385469850851303, 1.2467896803487808)\n"
     ]
    }
   ],
   "source": [
    "# Calculate Odds Ratio\n",
    "print('\\n=== Odds ratio of exposure ===\\n')\n",
    "diseased_exposed = len(m_exposure[m_exposure['aki'] == 1])\n",
    "healthy_exposed = len(m_exposure[m_exposure['aki'] == 0])\n",
    "diseased_nonexposed = len(m_control[m_control['aki'] == 1])\n",
    "healthy_nonexposed = len(m_control[m_control['aki'] == 0])\n",
    "\n",
    "utils.get_odds_ratio(diseased_exposed, healthy_exposed, diseased_nonexposed, healthy_nonexposed)"
   ]
  },
  {
   "cell_type": "markdown",
   "metadata": {
    "colab_type": "text",
    "id": "J7QxTQYJBVSt"
   },
   "source": [
    "# Define a function to do all the above"
   ]
  },
  {
   "cell_type": "code",
   "execution_count": 47,
   "metadata": {
    "colab": {},
    "colab_type": "code",
    "id": "TrnUK9sQBVb1"
   },
   "outputs": [],
   "source": [
    "def calculate_or(exposure, control,\n",
    "                 cols=['age', 'apache_prob', 'sepsis_all', 'infection_skin_soft_tissue', 'immunocompromised'],\n",
    "                 outcome_var='aki',\n",
    "                 seed=389202):\n",
    "\n",
    "    np.random.seed(seed)\n",
    "    # make sure we don't overwrite the legit column status\n",
    "    if 'status' in exposure.columns:\n",
    "        exposure['status_original'] = exposure['status']\n",
    "        control['status_original'] = control['status']\n",
    "    exposure['status'] = 1\n",
    "    control['status'] = 0\n",
    "  \n",
    "    # vars we exclude\n",
    "    cols_exclude = [c for c in exposure.columns if c not in cols and c != 'status']\n",
    "  \n",
    "    print('Dataframe being used:')\n",
    "    display(exposure[cols].head())\n",
    "\n",
    "    m = Matcher(exposure, control, yvar=\"status\", exclude=cols_exclude)\n",
    "\n",
    "    # predict the y outcome balancing the classes\n",
    "    # repeat 100 times to be sure we use a lot of majority class data\n",
    "    m.fit_scores(balance=True, nmodels=100)\n",
    "  \n",
    "    m.predict_scores()\n",
    "    m.plot_scores()\n",
    "  \n",
    "    m.tune_threshold(method='random')\n",
    "\n",
    "    m.match(method=\"min\", nmatches=1, threshold=0.0005)\n",
    "    m.record_frequency()\n",
    "\n",
    "    m.assign_weight_vector()\n",
    "\n",
    "    m.matched_data.sort_values(\"match_id\").head(n=6)\n",
    "\n",
    "    # no categorical variables -> this errors\n",
    "    categorical_results = m.compare_categorical(return_table=True)\n",
    "    cc = m.compare_continuous(return_table=True)\n",
    "    display(cc)\n",
    "\n",
    "    # now grab the matched data into a single dataframe\n",
    "    m_control = m.matched_data.loc[m.matched_data['status']==0].copy()\n",
    "    m_exposure = m.matched_data.loc[m.matched_data['status']==1].copy()\n",
    "\n",
    "\n",
    "    df_matched = m_control.merge(m_exposure, how='left', on='match_id',\n",
    "                               suffixes=('_control', '_exposure'))\n",
    "\n",
    "    print(df_matched.shape)\n",
    "\n",
    "    # df_matched.head()\n",
    "\n",
    "    # Calculate Odds Ratio\n",
    "    print(f'\\n=== Odds ratio of exposure against {outcome_var} ===\\n')\n",
    "    diseased_exposed = len(m_exposure[m_exposure[outcome_var] == 1])\n",
    "    healthy_exposed = len(m_exposure[m_exposure[outcome_var] == 0])\n",
    "    diseased_nonexposed = len(m_control[m_control[outcome_var] == 1])\n",
    "    healthy_nonexposed = len(m_control[m_control[outcome_var] == 0])\n",
    "\n",
    "    utils.get_odds_ratio(diseased_exposed, healthy_exposed, diseased_nonexposed, healthy_nonexposed)\n",
    "  \n",
    "    return m"
   ]
  },
  {
   "cell_type": "markdown",
   "metadata": {
    "colab_type": "text",
    "id": "TDUBhiXtOR7q"
   },
   "source": [
    "### Primary analysis\n",
    "\n",
    "* exposure: treated with vancomycin on admission to the ICU\n",
    "* control: *not* treated with vancomycin, for the first 7 days of stay, starting at unit admit time\n",
    "* excluded\n",
    "  * patients treated with vanco later in the ICU stay, but not on admission"
   ]
  },
  {
   "cell_type": "code",
   "execution_count": 48,
   "metadata": {
    "colab": {
     "base_uri": "https://localhost:8080/",
     "height": 2960
    },
    "colab_type": "code",
    "id": "EBXRFhOQOR7q",
    "outputId": "b4c018ca-37f3-48ac-a5e0-6694edc7c77f",
    "scrolled": false
   },
   "outputs": [
    {
     "name": "stdout",
     "output_type": "stream",
     "text": [
      "Dataframe being used:\n"
     ]
    },
    {
     "data": {
      "text/html": [
       "<div>\n",
       "<style scoped>\n",
       "    .dataframe tbody tr th:only-of-type {\n",
       "        vertical-align: middle;\n",
       "    }\n",
       "\n",
       "    .dataframe tbody tr th {\n",
       "        vertical-align: top;\n",
       "    }\n",
       "\n",
       "    .dataframe thead th {\n",
       "        text-align: right;\n",
       "    }\n",
       "</style>\n",
       "<table border=\"1\" class=\"dataframe\">\n",
       "  <thead>\n",
       "    <tr style=\"text-align: right;\">\n",
       "      <th></th>\n",
       "      <th>age</th>\n",
       "      <th>apache_prob</th>\n",
       "      <th>sepsis_all</th>\n",
       "      <th>infection_skin_soft_tissue</th>\n",
       "      <th>immunocompromised</th>\n",
       "    </tr>\n",
       "    <tr>\n",
       "      <th>patientunitstayid</th>\n",
       "      <th></th>\n",
       "      <th></th>\n",
       "      <th></th>\n",
       "      <th></th>\n",
       "      <th></th>\n",
       "    </tr>\n",
       "  </thead>\n",
       "  <tbody>\n",
       "    <tr>\n",
       "      <th>141288</th>\n",
       "      <td>61</td>\n",
       "      <td>0.026199</td>\n",
       "      <td>yes</td>\n",
       "      <td>no</td>\n",
       "      <td>no</td>\n",
       "    </tr>\n",
       "    <tr>\n",
       "      <th>141751</th>\n",
       "      <td>60</td>\n",
       "      <td>NaN</td>\n",
       "      <td>yes</td>\n",
       "      <td>no</td>\n",
       "      <td>no</td>\n",
       "    </tr>\n",
       "    <tr>\n",
       "      <th>141771</th>\n",
       "      <td>52</td>\n",
       "      <td>0.243177</td>\n",
       "      <td>no</td>\n",
       "      <td>no</td>\n",
       "      <td>no</td>\n",
       "    </tr>\n",
       "    <tr>\n",
       "      <th>142002</th>\n",
       "      <td>59</td>\n",
       "      <td>0.513290</td>\n",
       "      <td>no</td>\n",
       "      <td>no</td>\n",
       "      <td>no</td>\n",
       "    </tr>\n",
       "    <tr>\n",
       "      <th>142209</th>\n",
       "      <td>73</td>\n",
       "      <td>0.128382</td>\n",
       "      <td>yes</td>\n",
       "      <td>no</td>\n",
       "      <td>no</td>\n",
       "    </tr>\n",
       "  </tbody>\n",
       "</table>\n",
       "</div>"
      ],
      "text/plain": [
       "                   age  apache_prob sepsis_all infection_skin_soft_tissue  \\\n",
       "patientunitstayid                                                           \n",
       "141288              61     0.026199        yes                         no   \n",
       "141751              60          NaN        yes                         no   \n",
       "141771              52     0.243177         no                         no   \n",
       "142002              59     0.513290         no                         no   \n",
       "142209              73     0.128382        yes                         no   \n",
       "\n",
       "                  immunocompromised  \n",
       "patientunitstayid                    \n",
       "141288                           no  \n",
       "141751                           no  \n",
       "141771                           no  \n",
       "142002                           no  \n",
       "142209                           no  "
      ]
     },
     "metadata": {},
     "output_type": "display_data"
    },
    {
     "name": "stdout",
     "output_type": "stream",
     "text": [
      "Formula:\n",
      "status ~ age+apache_prob+immunocompromised+infection_skin_soft_tissue+sepsis_all\n",
      "n majority: 19500\n",
      "n minority: 4149\n",
      "Fitting Models on Balanced Samples: 100\\100\n",
      "Average Accuracy: 75.15%\n"
     ]
    },
    {
     "data": {
      "text/html": [
       "<div>\n",
       "<style scoped>\n",
       "    .dataframe tbody tr th:only-of-type {\n",
       "        vertical-align: middle;\n",
       "    }\n",
       "\n",
       "    .dataframe tbody tr th {\n",
       "        vertical-align: top;\n",
       "    }\n",
       "\n",
       "    .dataframe thead th {\n",
       "        text-align: right;\n",
       "    }\n",
       "</style>\n",
       "<table border=\"1\" class=\"dataframe\">\n",
       "  <thead>\n",
       "    <tr style=\"text-align: right;\">\n",
       "      <th></th>\n",
       "      <th>var</th>\n",
       "      <th>ks_before</th>\n",
       "      <th>ks_after</th>\n",
       "      <th>grouped_chisqr_before</th>\n",
       "      <th>grouped_chisqr_after</th>\n",
       "      <th>std_median_diff_before</th>\n",
       "      <th>std_median_diff_after</th>\n",
       "      <th>std_mean_diff_before</th>\n",
       "      <th>std_mean_diff_after</th>\n",
       "    </tr>\n",
       "  </thead>\n",
       "  <tbody>\n",
       "    <tr>\n",
       "      <th>0</th>\n",
       "      <td>age</td>\n",
       "      <td>0.0</td>\n",
       "      <td>0.196</td>\n",
       "      <td>0.0</td>\n",
       "      <td>0.139</td>\n",
       "      <td>0.057802</td>\n",
       "      <td>0.00000</td>\n",
       "      <td>0.063782</td>\n",
       "      <td>-0.009905</td>\n",
       "    </tr>\n",
       "    <tr>\n",
       "      <th>1</th>\n",
       "      <td>apache_prob</td>\n",
       "      <td>0.0</td>\n",
       "      <td>0.049</td>\n",
       "      <td>1.0</td>\n",
       "      <td>1.000</td>\n",
       "      <td>0.297223</td>\n",
       "      <td>-0.02569</td>\n",
       "      <td>0.376533</td>\n",
       "      <td>-0.055917</td>\n",
       "    </tr>\n",
       "  </tbody>\n",
       "</table>\n",
       "</div>"
      ],
      "text/plain": [
       "           var  ks_before  ks_after  grouped_chisqr_before  \\\n",
       "0          age        0.0     0.196                    0.0   \n",
       "1  apache_prob        0.0     0.049                    1.0   \n",
       "\n",
       "   grouped_chisqr_after  std_median_diff_before  std_median_diff_after  \\\n",
       "0                 0.139                0.057802                0.00000   \n",
       "1                 1.000                0.297223               -0.02569   \n",
       "\n",
       "   std_mean_diff_before  std_mean_diff_after  \n",
       "0              0.063782            -0.009905  \n",
       "1              0.376533            -0.055917  "
      ]
     },
     "metadata": {},
     "output_type": "display_data"
    },
    {
     "name": "stdout",
     "output_type": "stream",
     "text": [
      "(4149, 53)\n",
      "\n",
      "=== Odds ratio of exposure against aki ===\n",
      "\n",
      "Diseased + Exposed: 1441\n",
      "Healthy + Exposed: 2708\n",
      "Diseased + Nonexposed: 1332\n",
      "Healthy + Nonexposed: 2817\n",
      "Odds Ratio: 1.125376761547367\n",
      "95% CI: (1.0271995480970233, 1.2329375122653536)\n"
     ]
    },
    {
     "data": {
      "image/png": "[encoded data removed]",
      "text/plain": [
       "<Figure size 720x360 with 1 Axes>"
      ]
     },
     "metadata": {
      "needs_background": "light"
     },
     "output_type": "display_data"
    },
    {
     "data": {
      "image/png": "[encoded data removed]",
      "text/plain": [
       "<Figure size 720x360 with 1 Axes>"
      ]
     },
     "metadata": {
      "needs_background": "light"
     },
     "output_type": "display_data"
    },
    {
     "data": {
      "image/png": "[encoded data removed]",
      "text/plain": [
       "<Figure size 720x360 with 1 Axes>"
      ]
     },
     "metadata": {
      "needs_background": "light"
     },
     "output_type": "display_data"
    },
    {
     "data": {
      "image/png": "[encoded data removed]",
      "text/plain": [
       "<Figure size 720x360 with 1 Axes>"
      ]
     },
     "metadata": {
      "needs_background": "light"
     },
     "output_type": "display_data"
    },
    {
     "data": {
      "image/png": "[encoded data removed]",
      "text/plain": [
       "<Figure size 864x360 with 2 Axes>"
      ]
     },
     "metadata": {
      "needs_background": "light"
     },
     "output_type": "display_data"
    },
    {
     "data": {
      "image/png": "[encoded data removed]",
      "text/plain": [
       "<Figure size 864x360 with 2 Axes>"
      ]
     },
     "metadata": {
      "needs_background": "light"
     },
     "output_type": "display_data"
    }
   ],
   "source": [
    "# INITIAL VANCO vs. NO VANCO\n",
    "novanco = df[(df['vanco_wk'] == 0) & (df['vanco_adm'] == 0)]\n",
    "vanco = df[(df['vanco_adm'] == 1)]\n",
    "m_primary = calculate_or(exposure=vanco, control=novanco, seed=12938)"
   ]
  }
 ],
 "metadata": {
  "colab": {
   "collapsed_sections": [],
   "name": "vancomycin-propensity-score.ipynb",
   "provenance": [],
   "version": "0.3.2"
  },
  "kernelspec": {
   "display_name": "vanco-renal-toxicity",
   "language": "python",
   "name": "vanco-renal-toxicity"
  },
  "language_info": {
   "codemirror_mode": {
    "name": "ipython",
    "version": 3
   },
   "file_extension": ".py",
   "mimetype": "text/x-python",
   "name": "python",
   "nbconvert_exporter": "python",
   "pygments_lexer": "ipython3",
   "version": "3.7.2"
  }
 },
 "nbformat": 4,
 "nbformat_minor": 1
}
