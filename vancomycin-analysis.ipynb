{
 "cells": [
  {
   "cell_type": "markdown",
   "metadata": {},
   "source": [
    "# Assessment of nephrotoxicity of vancomycin\n",
    "\n",
    "The aim of this study was to quantify the association between nephrotoxicity and vancomycin in a large, multi-center US database.\n",
    "The study matches patients who were admitted to the emergency department and received vancomycin on ICU admission versus those who did not receive vancomycin on admission. The matching is done using the APACHE-IV score component (which is in fact equivalent to the APACHE-III score).\n",
    "\n",
    "\n",
    "## Definitions\n",
    "\n",
    "* **drug on admission:** patient received medication order -12 to 12 hours upon admission to the ICU\n",
    "* **baseline creatinine:** first creatinine value between -12 to 12 hours upon admission to the ICU\n",
    "* **AKI:** following KDIGO guidelines using only creatinine, any instance of AKI between 2-7 days after their ICU admission.\n",
    "\n",
    "KDIGO guidelines for AKI are: >= 50% change from baseline over 7 days, or absolute increase of 0.3 in creatinine over 48 hours."
   ]
  },
  {
   "cell_type": "markdown",
   "metadata": {},
   "source": [
    "## 0. Setup"
   ]
  },
  {
   "cell_type": "code",
   "execution_count": null,
   "metadata": {},
   "outputs": [],
   "source": [
    "# Must install pandas-gbq. Link: https://pandas-gbq.readthedocs.io/en/latest/install.html#pip\n",
    "import math\n",
    "import random\n",
    "import pandas as pd\n",
    "import numpy as np\n",
    "import matplotlib.pyplot as plt\n",
    "\n",
    "project_id='lcp-internal'\n",
    "\n",
    "# Helper function to read data from BigQuery into pandas dataframes.\n",
    "def run_query(query):\n",
    "    return pd.io.gbq.read_gbq(query,\n",
    "                              project_id=project_id, verbose=False,\n",
    "                              dialect='standard')"
   ]
  },
  {
   "cell_type": "markdown",
   "metadata": {},
   "source": [
    "# 1. Summarize cohort"
   ]
  },
  {
   "cell_type": "code",
   "execution_count": null,
   "metadata": {},
   "outputs": [],
   "source": [
    "query = \"\"\"\n",
    "select *\n",
    "from `lcp-internal.vanco.cohort`\n",
    "\"\"\"\n",
    "df = run_query(query)"
   ]
  },
  {
   "cell_type": "code",
   "execution_count": null,
   "metadata": {},
   "outputs": [],
   "source": [
    "print('== EXCLUSIONS - TOTAL ==')\n",
    "N = df.shape[0]\n",
    "print(f'{N:6d} unique unit stays.')\n",
    "for c in df.columns:\n",
    "    if c.startswith('exclude_'):\n",
    "        N = df[c].sum()\n",
    "        mu = df[c].mean()*100.0\n",
    "        print(f'  {N:6d} ({mu:4.1f}%) - {c}')\n",
    "        \n",
    "print('\\n== EXCLUSIONS - SEQUENTIAL ==')\n",
    "N = df.shape[0]\n",
    "print(f'{N:7d} unique unit stays.')\n",
    "idx = df['patientunitstayid'].notnull()\n",
    "for c in df.columns:\n",
    "    if c.startswith('exclude_'):\n",
    "        # index patients removed by this exclusion\n",
    "        idxRem = (df[c]==1)\n",
    "        # calculate number of patients being removed, after applying prev excl\n",
    "        N = (idx & idxRem).sum()\n",
    "        mu = N/df.shape[0]*100.0\n",
    "        idx = idx & (~idxRem)\n",
    "        n_rem = idx.sum()\n",
    "        \n",
    "        print(f'- {N:5d} = {n_rem:6d} ({mu:4.1f}% removed) - {c}')"
   ]
  },
  {
   "cell_type": "markdown",
   "metadata": {},
   "source": [
    "# 2. Helper functions"
   ]
  },
  {
   "cell_type": "code",
   "execution_count": null,
   "metadata": {},
   "outputs": [],
   "source": [
    "all_apache_groups = ['0-10', '11-20', '21-30', '31-40', '41-50', '51-60', '61-70', '71-80', '81-90', '91-100', '101-110', '111-120', '121-130', '131-140', '>140']\n",
    "\n",
    "def determine_apache_distribution(treatmentgroup, controlgroup):\n",
    "    # Determine distribution of severity in treatment group vs control group based on APACHE score. \n",
    "    print('Counts of Apache Scores for Control Group and Treatment Group\\n')\n",
    "    print(f'ApacheGroups\\tControl\\tTreatment')\n",
    "\n",
    "    for apache_group in all_apache_groups:\n",
    "        print(f'{apache_group}\\t\\t{len(controlgroup[controlgroup[\"apache_group\"] == apache_group])}\\t{len(treatmentgroup[treatmentgroup[\"apache_group\"] == apache_group])}')\n",
    "    \n",
    "    meandiff = controlgroup['apachescore'].mean() - treatmentgroup['apachescore'].mean()\n",
    "    print(f'\\nAbsolute Mean Difference of APACHE Score: {meandiff}')\n",
    "    \n",
    "def get_matched_groups(treat_um, control_um, seed=830278):\n",
    "    # ensure reproducibility by fixing seed\n",
    "    random.seed(seed)\n",
    "    \n",
    "    # Create an empty dataframe variables. \n",
    "    df_treatment = pd.DataFrame()\n",
    "    df_control = pd.DataFrame() \n",
    "\n",
    "    # For each valid apache group, determine the count the number of IDs in the treatment group \n",
    "    # and sample that sample number from control group.\n",
    "    for apache_group in all_apache_groups:\n",
    "        treat_group = treat_um[treat_um[\"apache_group\"] == apache_group]\n",
    "        control_group = control_um[control_um[\"apache_group\"] == apache_group]\n",
    "        sample_num = len(treat_group) if len(treat_group) < len(control_group) else len(control_group)\n",
    "\n",
    "        if sample_num > 0:\n",
    "            treat_sample = treat_group.sample( n=sample_num )\n",
    "            df_treatment = df_treatment.append(treat_sample)\n",
    "\n",
    "            control_sample = control_group.sample( n=sample_num )\n",
    "            df_control = df_control.append(control_sample)\n",
    "\n",
    "    print(f'Shape of treatment group: {df_treatment.shape}')  \n",
    "    print(f'Shape of control group: {df_control.shape}')\n",
    "    \n",
    "    return df_treatment, df_control\n",
    "\n",
    "def get_odds_ratio(a, b, c, d):\n",
    "    oddsr = (a / b) / (c / d)\n",
    "    se_log_or = ((1/a) + (1/b) + (1/c) + (1/d))**.5\n",
    "    ci_lower = math.exp(math.log(oddsr) - 1.96*se_log_or)\n",
    "    ci_upper = math.exp(math.log(oddsr) + 1.96*se_log_or)\n",
    "    \n",
    "    print(f'Diseased + Exposed: {a}')\n",
    "    print(f'Healthy + Exposed: {b}')\n",
    "    print(f'Diseased + Nonexposed: {c}')\n",
    "    print(f'Healthy + Nonexposed: {d}')\n",
    "    print(f'Odds Ratio: {oddsr}')\n",
    "    print(f'95% CI: ({ci_lower}, {ci_upper})')"
   ]
  },
  {
   "cell_type": "markdown",
   "metadata": {},
   "source": [
    "# 3. Analysis\n",
    "\n",
    "\n",
    "## Get data from BigQuery"
   ]
  },
  {
   "cell_type": "code",
   "execution_count": null,
   "metadata": {},
   "outputs": [],
   "source": [
    "# cohort with exclusions applied\n",
    "query = \"\"\"\n",
    "SELECT co.*\n",
    "FROM `lcp-internal.vanco.cohort` co\n",
    "\"\"\"\n",
    "co = run_query(query)\n",
    "\n",
    "# covariates from APACHE table\n",
    "query = \"\"\"\n",
    "SELECT dem.*\n",
    "FROM `hst-953-2018.team_i.demographics` dem\n",
    "\"\"\"\n",
    "dem = run_query(query)\n",
    "\n",
    "# vancomycin drug doses\n",
    "query = \"\"\"\n",
    "SELECT v.*\n",
    "FROM `lcp-internal.vanco.vanco` v\n",
    "\"\"\"\n",
    "v = run_query(query)\n",
    "\n",
    "# AKI\n",
    "query = \"\"\"\n",
    "SELECT \n",
    "  patientunitstayid\n",
    "  , chartoffset\n",
    "  , creatinine, creatinine_reference, creatinine_baseline\n",
    "  , aki_48h, aki_7d\n",
    "FROM `lcp-internal.vanco.aki`\n",
    "\"\"\"\n",
    "aki = run_query(query)"
   ]
  },
  {
   "cell_type": "markdown",
   "metadata": {},
   "source": [
    "## Collapse vancomycin data\n",
    "\n",
    "The `v` dataframe has every vancomycin administration for a patient.\n",
    "\n",
    "Here we collapse it into two binary columns:\n",
    "\n",
    "* 'vanco_adm' - vancomycin was administered on ICU admission (between hours -12 and 12)\n",
    "* 'vanco_wk' - vancomycin was administered sometime between 2-7 days after ICU admission"
   ]
  },
  {
   "cell_type": "code",
   "execution_count": null,
   "metadata": {},
   "outputs": [],
   "source": [
    "def extract_adm_and_wk(d, drugname='vanco'):\n",
    "    print(drugname)\n",
    "    # define abx on admission as any administration [-12, 12]\n",
    "    idxKeep0 = (d['drugstartoffset'] >= (-12*60)) & (d['drugstartoffset'] <= (12*60)) \n",
    "    idxKeep1 = (d['drugstopoffset'] >= (-12*60)) & (d['drugstopoffset'] <= (12*60))\n",
    "    d_on_adm = set(d.loc[idxKeep0 | idxKeep1, 'patientunitstayid'].values)\n",
    "\n",
    "    # define \"persistent\" abx use using rules to try and capture continued administration\n",
    "\n",
    "    # group 1: had an order on admission, and had another one >48hr after admission\n",
    "    idxKeep0 = (d['drugstartoffset'] >= (48*60)) & (d['drugstartoffset'] <= (168*60))\n",
    "    idxKeep1 = (d['drugstopoffset'] >= (48*60)) & (d['drugstopoffset'] <= (168*60))\n",
    "    d_48hr = set(d.loc[idxKeep0 | idxKeep1, 'patientunitstayid'].values)\n",
    "    d_48hr = d_on_adm.intersection(d_48hr)\n",
    "\n",
    "    # group 2: had an order on admission that persisted after 48 hours\n",
    "    # implicitly this is catching the group who had an adm longer than 7 days\n",
    "    # as those with orders >48 hr are also in group 1\n",
    "    idxKeep0 = (d['drugstartoffset'] >= (-12*60)) & (d['drugstartoffset'] <= (-12*60)) \n",
    "    idxKeep1 = (d['drugstopoffset'] >= (48*60))\n",
    "    d_long_order = set(d.loc[idxKeep0 | idxKeep1, 'patientunitstayid'].values)\n",
    "\n",
    "    # create a dataframe with (1) abx on adm and (2) abx after 48 hr\n",
    "    d_df = d[['patientunitstayid']].copy().drop_duplicates()\n",
    "    d_df.set_index('patientunitstayid', inplace=True)\n",
    "    d_df[drugname + '_adm'] = 0\n",
    "    d_df[drugname + '_wk'] = 0\n",
    "\n",
    "    d_df.loc[d_on_adm, drugname + '_adm'] = 1\n",
    "    d_df.loc[d_48hr, drugname + '_wk'] = 1\n",
    "    d_df.loc[d_long_order, drugname + '_wk'] = 1\n",
    "\n",
    "    for c in d_df.columns:\n",
    "        print('{:6d} with {}'.format(d_df[c].sum(), c))\n",
    "\n",
    "    N = ((d_df[drugname + '_adm'] == 1) & (d_df[drugname + '_wk'] == 0)).sum()\n",
    "    print(f'{N} had {drugname} on admit but not after 48 hours.\\n')\n",
    "    \n",
    "    return d_df"
   ]
  },
  {
   "cell_type": "code",
   "execution_count": null,
   "metadata": {},
   "outputs": [],
   "source": [
    "v_df = extract_adm_and_wk(v, drugname='vanco')"
   ]
  },
  {
   "cell_type": "markdown",
   "metadata": {},
   "source": [
    "## Create a dataframe for analysis\n",
    "\n",
    "The below code block:\n",
    "\n",
    "* Applies exclusions\n",
    "* Adds vancomycin binary flags\n",
    "* Adds AKI flag"
   ]
  },
  {
   "cell_type": "code",
   "execution_count": null,
   "metadata": {
    "scrolled": true
   },
   "outputs": [],
   "source": [
    "# drop exclusions\n",
    "idxKeep = co['patientunitstayid'].notnull()\n",
    "for c in co.columns:\n",
    "    if c.startswith('exclude_'):\n",
    "        idxKeep = idxKeep & (co[c]==0)\n",
    "\n",
    "# combine data into single dataframe\n",
    "df = co.loc[idxKeep, ['patientunitstayid']].merge(dem, how='inner', on='patientunitstayid')\n",
    "\n",
    "# add vanco adminisdtration\n",
    "df = df.merge(v_df, how='inner', on='patientunitstayid')\n",
    "\n",
    "aki_grp = aki.groupby('patientunitstayid')[['creatinine', 'aki_48h', 'aki_7d']].max()\n",
    "aki_grp.reset_index(inplace=True)\n",
    "df = df.merge(aki_grp, how='inner', on='patientunitstayid')\n",
    "\n",
    "df['aki'] = ((df['aki_48h'] == 1) | (df['aki_7d'] == 1)).astype(int)\n",
    "print(df.shape)\n",
    "df.head()"
   ]
  },
  {
   "cell_type": "markdown",
   "metadata": {},
   "source": [
    "## Propensity matching"
   ]
  },
  {
   "cell_type": "code",
   "execution_count": null,
   "metadata": {},
   "outputs": [],
   "source": [
    "# helper function to print odds ratio after matching\n",
    "def match_and_print_or(exposure, control):\n",
    "    N = control.shape[0]\n",
    "    print(f'{N} in control group.')\n",
    "\n",
    "    N = exposure.shape[0]\n",
    "    print(f'{N} in exposure group.')\n",
    "\n",
    "    # Print out APACHE group distribution for each group\n",
    "    print('\\n=== APACHE distribution, unmatched data ===\\n')\n",
    "    determine_apache_distribution(exposure, control)\n",
    "\n",
    "    # Match groups by APACHE group\n",
    "    print('\\n=== Match groups on APACHE ===\\n')\n",
    "    exposure_m, control_m = get_matched_groups(exposure, control)\n",
    "    determine_apache_distribution(exposure_m, control_m)\n",
    "\n",
    "\n",
    "    # Calculate Odds Ratio\n",
    "    print('\\n=== Odds ratio of exposure ===\\n')\n",
    "    diseased_exposed = len(exposure_m[exposure_m['aki'] == 1])\n",
    "    healthy_exposed = len(exposure_m[exposure_m['aki'] == 0])\n",
    "    diseased_nonexposed = len(control_m[control_m['aki'] == 1])\n",
    "    healthy_nonexposed = len(control_m[control_m['aki'] == 0])\n",
    "\n",
    "    get_odds_ratio(diseased_exposed, healthy_exposed, diseased_nonexposed, healthy_nonexposed)"
   ]
  },
  {
   "cell_type": "code",
   "execution_count": null,
   "metadata": {},
   "outputs": [],
   "source": [
    "# Vanco + No Vanco Analysis\n",
    "print('\\n=== Cross-tabulation of vanco on admission vs. vanco during the week (days 2-7) ===')\n",
    "display(pd.crosstab(df['vanco_adm'], df['vanco_wk'], margins=True))\n",
    "print('Normalized:')\n",
    "display(pd.crosstab(df['vanco_adm'], df['vanco_wk'], margins=True, normalize=True))"
   ]
  },
  {
   "cell_type": "markdown",
   "metadata": {},
   "source": [
    "### Primary analysis\n",
    "\n",
    "* exposure: treated with vancomycin on admission to the ICU\n",
    "* control: *not* treated with vancomycin, for the first 7 days of stay, starting at unit admit time\n",
    "* excluded\n",
    "  * patients treated with vanco later in the ICU stay, but not on admission"
   ]
  },
  {
   "cell_type": "code",
   "execution_count": null,
   "metadata": {},
   "outputs": [],
   "source": [
    "# INITIAL VANCO vs. NO VANCO\n",
    "novanco = df[(df['vanco_wk'] == 0) & (df['vanco_adm'] == 0)]\n",
    "vanco = df[(df['vanco_adm'] == 1)]\n",
    "match_and_print_or(exposure=vanco, control=novanco)"
   ]
  },
  {
   "cell_type": "markdown",
   "metadata": {},
   "source": [
    "### Secondary analysis\n",
    "\n",
    "Slight alterations in how the exposure and treatment groups are defined.\n",
    "\n",
    "* exposure: treated with vancomycin on admission *and* during the week to the ICU\n",
    "* control: *not* treated with vancomycin, for the first 7 days of stay, starting at unit admit time\n",
    "* excluded\n",
    "  * patients treated with vanco later in the ICU stay, but not on admission\n",
    "  * patients treated with vanco on admission, but not later in the week"
   ]
  },
  {
   "cell_type": "code",
   "execution_count": null,
   "metadata": {},
   "outputs": [],
   "source": [
    "# Vanco + No Vanco Analysis\n",
    "novanco = df[(df['vanco_wk'] == 0) & (df['vanco_adm'] == 0)]\n",
    "vanco = df[(df['vanco_wk'] == 1) & (df['vanco_adm'] == 1)]\n",
    "match_and_print_or(exposure=vanco, control=novanco)"
   ]
  }
 ],
 "metadata": {
  "kernelspec": {
   "display_name": "vanco",
   "language": "python",
   "name": "vanco"
  },
  "language_info": {
   "codemirror_mode": {
    "name": "ipython",
    "version": 3
   },
   "file_extension": ".py",
   "mimetype": "text/x-python",
   "name": "python",
   "nbconvert_exporter": "python",
   "pygments_lexer": "ipython3",
   "version": "3.7.1"
  }
 },
 "nbformat": 4,
 "nbformat_minor": 2
}
