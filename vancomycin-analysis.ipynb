{
 "cells": [
  {
   "cell_type": "markdown",
   "metadata": {},
   "source": [
    "# Assessment of nephrotoxicity of vancomycin\n",
    "\n",
    "The aim of this study was to quantify the association between nephrotoxicity and vancomycin in a large, multi-center US database.\n",
    "The study matches patients who were admitted to the emergency department and received vancomycin on ICU admission versus those who did not receive vancomycin on admission. The matching is done using the APACHE-IV score component (which is in fact equivalent to the APACHE-III score).\n",
    "\n",
    "\n",
    "## Definitions\n",
    "\n",
    "* **drug on admission:** patient received medication order -12 to 12 hours upon admission to the ICU\n",
    "* **baseline creatinine:** first creatinine value between -12 to 12 hours upon admission to the ICU\n",
    "* **AKI:** following KDIGO guidelines using only creatinine, any instance of AKI between 2-7 days after their ICU admission.\n",
    "\n",
    "KDIGO guidelines for AKI are: >= 50% change from baseline over 7 days, or absolute increase of 0.3 in creatinine over 48 hours."
   ]
  },
  {
   "cell_type": "markdown",
   "metadata": {},
   "source": [
    "## 0. Setup"
   ]
  },
  {
   "cell_type": "code",
   "execution_count": null,
   "metadata": {},
   "outputs": [],
   "source": [
    "# Must install pandas-gbq. Link: https://pandas-gbq.readthedocs.io/en/latest/install.html#pip\n",
    "import pandas as pd\n",
    "import numpy as np\n",
    "import matplotlib.pyplot as plt\n",
    "\n",
    "# helper functions stored in local py file\n",
    "import utils\n",
    "\n",
    "project_id='lcp-internal'\n",
    "\n",
    "# Helper function to read data from BigQuery into pandas dataframes.\n",
    "def run_query(query):\n",
    "    return pd.io.gbq.read_gbq(query,\n",
    "                              project_id=project_id, verbose=False,\n",
    "                              dialect='standard')"
   ]
  },
  {
   "cell_type": "markdown",
   "metadata": {},
   "source": [
    "# 1. Summarize cohort"
   ]
  },
  {
   "cell_type": "code",
   "execution_count": null,
   "metadata": {},
   "outputs": [],
   "source": [
    "query = \"\"\"\n",
    "select *\n",
    "from `lcp-internal.vanco.cohort`\n",
    "\"\"\"\n",
    "co = run_query(query)"
   ]
  },
  {
   "cell_type": "code",
   "execution_count": null,
   "metadata": {},
   "outputs": [],
   "source": [
    "print('== EXCLUSIONS - TOTAL ==')\n",
    "N = co.shape[0]\n",
    "print(f'{N:6d} unique unit stays.')\n",
    "for c in co.columns:\n",
    "    if c.startswith('exclude_'):\n",
    "        N = co[c].sum()\n",
    "        mu = co[c].mean()*100.0\n",
    "        print(f'  {N:6d} ({mu:4.1f}%) - {c}')\n",
    "        \n",
    "print('\\n== EXCLUSIONS - SEQUENTIAL ==')\n",
    "N = co.shape[0]\n",
    "print(f'{N:7d} unique unit stays.')\n",
    "idx = co['patientunitstayid'].notnull()\n",
    "for c in co.columns:\n",
    "    if c.startswith('exclude_'):\n",
    "        # index patients removed by this exclusion\n",
    "        idxRem = (co[c]==1)\n",
    "        # calculate number of patients being removed, after applying prev excl\n",
    "        N = (idx & idxRem).sum()\n",
    "        mu = N/co.shape[0]*100.0\n",
    "        idx = idx & (~idxRem)\n",
    "        n_rem = idx.sum()\n",
    "        \n",
    "        print(f'- {N:5d} = {n_rem:6d} ({mu:4.1f}% removed) - {c}')"
   ]
  },
  {
   "cell_type": "markdown",
   "metadata": {},
   "source": [
    "# 3. Analysis\n",
    "\n",
    "\n",
    "## Get data from BigQuery"
   ]
  },
  {
   "cell_type": "code",
   "execution_count": null,
   "metadata": {},
   "outputs": [],
   "source": [
    "# covariates from APACHE table\n",
    "query = \"\"\"\n",
    "SELECT dem.*\n",
    "FROM `hst-953-2018.team_i.demographics` dem\n",
    "\"\"\"\n",
    "dem = run_query(query)\n",
    "\n",
    "# vancomycin drug doses\n",
    "query = \"\"\"\n",
    "SELECT v.*\n",
    "FROM `lcp-internal.vanco.vanco` v\n",
    "\"\"\"\n",
    "v = run_query(query)\n",
    "\n",
    "# AKI\n",
    "query = \"\"\"\n",
    "SELECT \n",
    "  patientunitstayid\n",
    "  , chartoffset\n",
    "  , creatinine, creatinine_reference, creatinine_baseline\n",
    "  , aki_48h, aki_7d\n",
    "FROM `lcp-internal.vanco.aki`\n",
    "\"\"\"\n",
    "aki = run_query(query)"
   ]
  },
  {
   "cell_type": "markdown",
   "metadata": {},
   "source": [
    "## Collapse vancomycin data\n",
    "\n",
    "The `v` dataframe has every vancomycin administration for a patient.\n",
    "\n",
    "Here we collapse it into two binary columns:\n",
    "\n",
    "* 'vanco_adm' - vancomycin was administered on ICU admission (between hours -12 and 12)\n",
    "* 'vanco_wk' - vancomycin was administered sometime between 2-7 days after ICU admission"
   ]
  },
  {
   "cell_type": "code",
   "execution_count": null,
   "metadata": {},
   "outputs": [],
   "source": [
    "v_df = utils.extract_adm_and_wk(v, 'vanco')"
   ]
  },
  {
   "cell_type": "markdown",
   "metadata": {},
   "source": [
    "Print out the proportion of patients with/without vancomycin after exclusions."
   ]
  },
  {
   "cell_type": "code",
   "execution_count": null,
   "metadata": {},
   "outputs": [],
   "source": [
    "# get patient unit stay ID after applying exclusions\n",
    "idxKeep = co['patientunitstayid'].notnull()\n",
    "for c in co.columns:\n",
    "    if c.startswith('exclude_'):\n",
    "        idxKeep = idxKeep & (co[c]==0)\n",
    "        \n",
    "ptid = co.loc[idxKeep, 'patientunitstayid'].values\n",
    "n_pt = len(ptid)\n",
    "# limit to those in vancomycin dataframe\n",
    "ptid = [x for x in ptid if x in v_df.index]\n",
    "\n",
    "N = len(ptid)\n",
    "print(f'{n_pt} stays after exclusions.')\n",
    "for c in v_df.columns:\n",
    "    N = v_df.loc[ptid, c].sum()\n",
    "    mu = N / n_pt * 100.0\n",
    "    print(f'  {N} ({mu:3.1f}%) with {c}')\n",
    "    \n",
    "# if they have both adm, then row-wise sum must be greater than 1\n",
    "N = (v_df.loc[ptid, :] == 1).sum(axis=1)\n",
    "N = (N>1).sum()\n",
    "mu = N / n_pt * 100.0\n",
    "print(f'  {N} ({mu:3.1f}%) with both')"
   ]
  },
  {
   "cell_type": "markdown",
   "metadata": {},
   "source": [
    "## Create a dataframe for analysis\n",
    "\n",
    "The below code block:\n",
    "\n",
    "* Applies exclusions\n",
    "* Adds vancomycin binary flags\n",
    "* Adds AKI flag"
   ]
  },
  {
   "cell_type": "code",
   "execution_count": null,
   "metadata": {
    "scrolled": true
   },
   "outputs": [],
   "source": [
    "# drop exclusions\n",
    "idxKeep = co['patientunitstayid'].notnull()\n",
    "for c in co.columns:\n",
    "    if c.startswith('exclude_'):\n",
    "        idxKeep = idxKeep & (co[c]==0)\n",
    "\n",
    "# combine data into single dataframe\n",
    "df = co.loc[idxKeep, ['patientunitstayid']].merge(dem, how='inner', on='patientunitstayid')\n",
    "\n",
    "# add vanco adminisdtration\n",
    "df = df.merge(v_df, how='left', on='patientunitstayid')\n",
    "# if ptid missing in vanco dataframe, then no vanco was received\n",
    "# therefore impute 0\n",
    "for c in v_df.columns:\n",
    "    df[c].fillna(0, inplace=True)\n",
    "    df[c] = df[c].astype(int)\n",
    "\n",
    "aki_grp = aki.groupby('patientunitstayid')[['creatinine', 'aki_48h', 'aki_7d']].max()\n",
    "aki_grp.reset_index(inplace=True)\n",
    "df = df.merge(aki_grp, how='inner', on='patientunitstayid')\n",
    "\n",
    "df['aki'] = ((df['aki_48h'] == 1) | (df['aki_7d'] == 1)).astype(int)\n",
    "print(df.shape)\n",
    "df.head()"
   ]
  },
  {
   "cell_type": "markdown",
   "metadata": {},
   "source": [
    "## Propensity matching"
   ]
  },
  {
   "cell_type": "code",
   "execution_count": null,
   "metadata": {},
   "outputs": [],
   "source": [
    "# Vanco + No Vanco Analysis\n",
    "print('\\n=== Cross-tabulation of vanco on admission vs. vanco during the week (days 2-7) ===')\n",
    "display(pd.crosstab(df['vanco_adm'], df['vanco_wk'], margins=True))\n",
    "print('Normalized:')\n",
    "display(pd.crosstab(df['vanco_adm'], df['vanco_wk'], margins=True, normalize=True))"
   ]
  },
  {
   "cell_type": "markdown",
   "metadata": {},
   "source": [
    "### Primary analysis\n",
    "\n",
    "* exposure: treated with vancomycin on admission to the ICU\n",
    "* control: *not* treated with vancomycin, for the first 7 days of stay, starting at unit admit time\n",
    "* excluded\n",
    "  * patients treated with vanco later in the ICU stay, but not on admission"
   ]
  },
  {
   "cell_type": "code",
   "execution_count": null,
   "metadata": {},
   "outputs": [],
   "source": [
    "# INITIAL VANCO vs. NO VANCO\n",
    "novanco = df[(df['vanco_wk'] == 0) & (df['vanco_adm'] == 0)]\n",
    "vanco = df[(df['vanco_adm'] == 1)]\n",
    "utils.match_and_print_or(exposure=vanco, control=novanco, seed=12938)"
   ]
  },
  {
   "cell_type": "markdown",
   "metadata": {},
   "source": [
    "### Secondary analysis\n",
    "\n",
    "Slight alterations in how the exposure and treatment groups are defined.\n",
    "\n",
    "* exposure: treated with vancomycin on admission *and* during the week to the ICU\n",
    "* control: *not* treated with vancomycin, for the first 7 days of stay, starting at unit admit time\n",
    "* excluded\n",
    "  * patients treated with vanco later in the ICU stay, but not on admission\n",
    "  * patients treated with vanco on admission, but not later in the week"
   ]
  },
  {
   "cell_type": "code",
   "execution_count": null,
   "metadata": {},
   "outputs": [],
   "source": [
    "# Vanco + No Vanco Analysis\n",
    "novanco = df[(df['vanco_wk'] == 0) & (df['vanco_adm'] == 0)]\n",
    "vanco = df[(df['vanco_wk'] == 1) & (df['vanco_adm'] == 1)]\n",
    "utils.match_and_print_or(exposure=vanco, control=novanco)"
   ]
  },
  {
   "cell_type": "code",
   "execution_count": null,
   "metadata": {},
   "outputs": [],
   "source": [
    "# Vanco + No Vanco Analysis\n",
    "novanco = df[(df['vanco_wk'] == 0) & (df['vanco_adm'] == 0)]\n",
    "vanco = df[(df['vanco_wk'] == 0) & (df['vanco_adm'] == 1)]\n",
    "utils.match_and_print_or(exposure=vanco, control=novanco)"
   ]
  }
 ],
 "metadata": {
  "kernelspec": {
   "display_name": "vanco",
   "language": "python",
   "name": "vanco"
  },
  "language_info": {
   "codemirror_mode": {
    "name": "ipython",
    "version": 3
   },
   "file_extension": ".py",
   "mimetype": "text/x-python",
   "name": "python",
   "nbconvert_exporter": "python",
   "pygments_lexer": "ipython3",
   "version": "3.7.1"
  }
 },
 "nbformat": 4,
 "nbformat_minor": 2
}
